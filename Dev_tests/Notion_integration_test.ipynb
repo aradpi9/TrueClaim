{
 "cells": [
  {
   "cell_type": "markdown",
   "metadata": {},
   "source": [
    "# improts"
   ]
  },
  {
   "cell_type": "code",
   "execution_count": 8,
   "metadata": {},
   "outputs": [],
   "source": [
    "import pandas as pd\n",
    "from notion_client import Client\n"
   ]
  },
  {
   "cell_type": "markdown",
   "metadata": {},
   "source": [
    "# function definition"
   ]
  },
  {
   "cell_type": "code",
   "execution_count": 9,
   "metadata": {},
   "outputs": [],
   "source": [
    "def get_text_content(prop_value, prop_type='rich_text'):\n",
    "    if not prop_value:\n",
    "        return ''\n",
    "    try:\n",
    "        if prop_type == 'date':\n",
    "            return prop_value.get('date', {}).get('start', '')\n",
    "        if prop_type == 'rich_text':\n",
    "            texts = prop_value.get('rich_text', [])\n",
    "            if not texts:\n",
    "                return ''\n",
    "            first_text = texts[0].get('text', {})\n",
    "            return first_text.get('content', '')\n",
    "        elif prop_type == 'title':\n",
    "            titles = prop_value.get('title', [])\n",
    "            if not titles:\n",
    "                return ''\n",
    "            first_title = titles[0].get('text', {})\n",
    "            return first_title.get('content', '')\n",
    "        elif prop_type == 'email':\n",
    "            return prop_value.get('email', '')\n",
    "    except (AttributeError, IndexError, KeyError):\n",
    "        return ''\n",
    "    return ''"
   ]
  },
  {
   "cell_type": "markdown",
   "metadata": {},
   "source": [
    "# notions setup"
   ]
  },
  {
   "cell_type": "code",
   "execution_count": 10,
   "metadata": {},
   "outputs": [],
   "source": [
    "# Initialize Notion client\n",
    "NOTION_TOKEN = \"ntn_S6159294934albrajfceBHL4szrrrMllKAcFNUGM62v7JI\"\n",
    "DATABASE_ID = \"18316f1f61d680a2921bd08b8c62f895\"\n",
    "notion = Client(auth=NOTION_TOKEN)"
   ]
  },
  {
   "cell_type": "markdown",
   "metadata": {},
   "source": [
    "# Pull database"
   ]
  },
  {
   "cell_type": "code",
   "execution_count": 12,
   "metadata": {},
   "outputs": [
    {
     "data": {
      "text/html": [
       "<div>\n",
       "<style scoped>\n",
       "    .dataframe tbody tr th:only-of-type {\n",
       "        vertical-align: middle;\n",
       "    }\n",
       "\n",
       "    .dataframe tbody tr th {\n",
       "        vertical-align: top;\n",
       "    }\n",
       "\n",
       "    .dataframe thead th {\n",
       "        text-align: right;\n",
       "    }\n",
       "</style>\n",
       "<table border=\"1\" class=\"dataframe\">\n",
       "  <thead>\n",
       "    <tr style=\"text-align: right;\">\n",
       "      <th></th>\n",
       "      <th>customer name</th>\n",
       "      <th>Phone</th>\n",
       "      <th>Email</th>\n",
       "      <th>home address</th>\n",
       "      <th>Next Follow Up Date</th>\n",
       "      <th>Claim</th>\n",
       "      <th>Lead</th>\n",
       "      <th>call id</th>\n",
       "      <th>First_call_transcription</th>\n",
       "    </tr>\n",
       "  </thead>\n",
       "  <tbody>\n",
       "    <tr>\n",
       "      <th>0</th>\n",
       "      <td>test</td>\n",
       "      <td>131243</td>\n",
       "      <td>sda@askld.com</td>\n",
       "      <td>test1</td>\n",
       "      <td></td>\n",
       "      <td>Not approved by client</td>\n",
       "      <td>New</td>\n",
       "      <td>123aa</td>\n",
       "      <td></td>\n",
       "    </tr>\n",
       "    <tr>\n",
       "      <th>1</th>\n",
       "      <td>test</td>\n",
       "      <td>131243</td>\n",
       "      <td>sda@askld.com</td>\n",
       "      <td>test1</td>\n",
       "      <td>2025-02-06T00:00:00.000+02:00</td>\n",
       "      <td>Not approved by client</td>\n",
       "      <td>Did not answered</td>\n",
       "      <td></td>\n",
       "      <td></td>\n",
       "    </tr>\n",
       "    <tr>\n",
       "      <th>2</th>\n",
       "      <td>test</td>\n",
       "      <td>131243</td>\n",
       "      <td>sda@askld.com</td>\n",
       "      <td>asd</td>\n",
       "      <td>2025-01-25T00:00:00.000+02:00</td>\n",
       "      <td>Done</td>\n",
       "      <td>Fund recived</td>\n",
       "      <td></td>\n",
       "      <td></td>\n",
       "    </tr>\n",
       "    <tr>\n",
       "      <th>3</th>\n",
       "      <td>test</td>\n",
       "      <td>131243</td>\n",
       "      <td>sda@askld.com</td>\n",
       "      <td>test1</td>\n",
       "      <td>2025-01-25T00:00:00.000+02:00</td>\n",
       "      <td>Sent to Attorney</td>\n",
       "      <td>Client singed documents</td>\n",
       "      <td></td>\n",
       "      <td></td>\n",
       "    </tr>\n",
       "    <tr>\n",
       "      <th>4</th>\n",
       "      <td>test</td>\n",
       "      <td>131243</td>\n",
       "      <td>sda@askld.com</td>\n",
       "      <td>test1</td>\n",
       "      <td>2025-01-25T00:00:00.000+02:00</td>\n",
       "      <td>Sent to Attorney</td>\n",
       "      <td>Interested</td>\n",
       "      <td></td>\n",
       "      <td>\\nuser: Hello? \\n assistant: Hi\\nis this John?...</td>\n",
       "    </tr>\n",
       "    <tr>\n",
       "      <th>5</th>\n",
       "      <td>test</td>\n",
       "      <td>131243</td>\n",
       "      <td>sda@askld.com</td>\n",
       "      <td>test1</td>\n",
       "      <td>2025-01-25T00:00:00.000+02:00</td>\n",
       "      <td>Approved and waiting for filled documents</td>\n",
       "      <td>Documents sent for signiture</td>\n",
       "      <td>1235aa</td>\n",
       "      <td>as’;ldnkj. agskff hoaisf;lioo jalos;fj lkashf....</td>\n",
       "    </tr>\n",
       "    <tr>\n",
       "      <th>6</th>\n",
       "      <td>test</td>\n",
       "      <td>131243</td>\n",
       "      <td>sda@askld.com</td>\n",
       "      <td>test1</td>\n",
       "      <td>2025-01-25T00:00:00.000+02:00</td>\n",
       "      <td>Not approved by client</td>\n",
       "      <td>Asked for follow up</td>\n",
       "      <td></td>\n",
       "      <td></td>\n",
       "    </tr>\n",
       "  </tbody>\n",
       "</table>\n",
       "</div>"
      ],
      "text/plain": [
       "  customer name   Phone          Email home address  \\\n",
       "0          test  131243  sda@askld.com        test1   \n",
       "1          test  131243  sda@askld.com        test1   \n",
       "2          test  131243  sda@askld.com          asd   \n",
       "3          test  131243  sda@askld.com        test1   \n",
       "4          test  131243  sda@askld.com        test1   \n",
       "5          test  131243  sda@askld.com        test1   \n",
       "6          test  131243  sda@askld.com        test1   \n",
       "\n",
       "             Next Follow Up Date                                      Claim  \\\n",
       "0                                                    Not approved by client   \n",
       "1  2025-02-06T00:00:00.000+02:00                     Not approved by client   \n",
       "2  2025-01-25T00:00:00.000+02:00                                       Done   \n",
       "3  2025-01-25T00:00:00.000+02:00                           Sent to Attorney   \n",
       "4  2025-01-25T00:00:00.000+02:00                           Sent to Attorney   \n",
       "5  2025-01-25T00:00:00.000+02:00  Approved and waiting for filled documents   \n",
       "6  2025-01-25T00:00:00.000+02:00                     Not approved by client   \n",
       "\n",
       "                           Lead call id  \\\n",
       "0                           New   123aa   \n",
       "1              Did not answered           \n",
       "2                  Fund recived           \n",
       "3       Client singed documents           \n",
       "4                    Interested           \n",
       "5  Documents sent for signiture  1235aa   \n",
       "6           Asked for follow up           \n",
       "\n",
       "                            First_call_transcription  \n",
       "0                                                     \n",
       "1                                                     \n",
       "2                                                     \n",
       "3                                                     \n",
       "4  \\nuser: Hello? \\n assistant: Hi\\nis this John?...  \n",
       "5  as’;ldnkj. agskff hoaisf;lioo jalos;fj lkashf....  \n",
       "6                                                     "
      ]
     },
     "execution_count": 12,
     "metadata": {},
     "output_type": "execute_result"
    }
   ],
   "source": [
    "# create empty data arrey\n",
    "data = []\n",
    "\n",
    "# call notion API \n",
    "response = notion.databases.query(database_id=DATABASE_ID)\n",
    "\n",
    "# iterate through each page and collect data\n",
    "for page in response['results']:\n",
    "    # get page properties\n",
    "    properties = page.get('properties', {})\n",
    "    # select the fields we want to extract\n",
    "    row = {\n",
    "        'customer name': get_text_content(properties.get('Contact 1 name')),\n",
    "        'Phone': properties.get('Contact 1 phone', {}).get('phone_number', ''),\n",
    "        'Email': get_text_content(properties.get('Contact 1 Email address'), 'email'),\n",
    "        'home address': get_text_content(properties.get('Address')),\n",
    "        'Next Follow Up Date': properties.get('Next Follow Up Date', {}).get('date', {}).get('start', '') if properties.get('Next Follow Up Date') and properties.get('Next Follow Up Date').get('date') else '',\n",
    "        'Claim': properties.get('Status of Claim', {}).get('status', {}).get('name', ''),\n",
    "        'Lead': properties.get('Status of lead', {}).get('status', {}).get('name', ''),   \n",
    "        'call id' : get_text_content(properties.get('Last call ID')),\n",
    "        'First_call_transcription': get_text_content(properties.get('cold call transcription'))\n",
    "    }\n",
    "    # append data to the data arrey\n",
    "    data.append(row)\n",
    "    \n",
    "# convert data to a dataframe   \n",
    "df = pd.DataFrame(data)\n",
    "df"
   ]
  },
  {
   "cell_type": "markdown",
   "metadata": {},
   "source": [
    "# Pull database only for cold call"
   ]
  },
  {
   "cell_type": "code",
   "execution_count": null,
   "metadata": {},
   "outputs": [],
   "source": [
    "cold_call_df = df[df['Lead'].isin(['New', 'Did not answered'])]\n",
    "cold_call_df"
   ]
  },
  {
   "cell_type": "markdown",
   "metadata": {},
   "source": [
    "# Pull database only for closer"
   ]
  },
  {
   "cell_type": "code",
   "execution_count": null,
   "metadata": {},
   "outputs": [],
   "source": [
    "closer_df = df[df['Lead'].isin(['Interested'])]\n",
    "closer_df"
   ]
  },
  {
   "cell_type": "markdown",
   "metadata": {},
   "source": [
    "# update database test"
   ]
  },
  {
   "cell_type": "code",
   "execution_count": 5,
   "metadata": {},
   "outputs": [
    {
     "name": "stdout",
     "output_type": "stream",
     "text": [
      "Notion database updated successfully.\n"
     ]
    }
   ],
   "source": [
    "# Find the row with call id \"123aa\"\n",
    "mask = df['call id'] == \"123aa\"\n",
    "\n",
    "# Update the \"First_call_transcription\" column for the matched row\n",
    "df.loc[mask, 'First_call_transcription'] = \"\"\"\n",
    "user: Hello? \\n assistant: Hi\n",
    "is this John? \\n user: Yes. It is. \\n assistant: Hi John\n",
    "my name is Cristin and I'm calling from TrueClaim Services. I've spent the last several days trying to find you. We specialize in auditing public records to search for unclaimed funds held by government agencies and owed to individuals. I believe I've found some funds that might belong to you. Can you confirm if you used to live at 123 Main St before? \\n user: Yes. It is. \\n assistant: John\n",
    "it appears that the local courts are holding onto some funds that belong to you\n",
    "likely from a past foreclosure. These funds are at risk of being turned over to the government if not claimed in a timely manner. We'd like to help you recover them. Our service takes care of everything\n",
    "from preparing and submitting the necessary paperwork to dealing with the bureaucracy\n",
    "all at no upfront cost or risk to you. We only get paid if you receive your money back. Would you like to know more about the process and potentially recovering your funds? \\n user: Yeah. Of course. \\n assistant: I'm going to send over some information documents for you to review at your convenience. Additionally\n",
    "I'm setting up a call with one of our senior representatives who will guide you through the process and answer any questions you may have. When would you prefer us to reach out to you to schedule this call? \\n user: It's today. \\n user: When \\n assistant: I can arrange for the senior representative to call you today. Would you be available to take the call within the next hour or would you prefer a specific time that suits you better? \\n user: Yeah. Next hour. \\n assistant: To ensure you receive all necessary documents and updates on your request\n",
    "could you please share your email address with me? \\n user: Yeah. Sure. And email is john@gmail.com. \\n assistant: Just to confirm\n",
    "your email is john@gmail.com\n",
    "correct? \\n user: Yes. It is. \\n assistant: Thank you so much for taking the time to chat with me today\n",
    "John. \\n \n",
    "\"\"\"\n",
    "\n",
    "# Update the Notion database \n",
    "for index, row in df[mask].iterrows():\n",
    "    page_id = response['results'][index]['id']\n",
    "    notion.pages.update(\n",
    "        page_id=page_id,\n",
    "        properties={\n",
    "            'cold call transcription': {\n",
    "                'rich_text': [{'text': {'content': row['First_call_transcription']}}]\n",
    "            }\n",
    "        }\n",
    "    )\n",
    "\n",
    "print(\"Notion database updated successfully.\")\n"
   ]
  }
 ],
 "metadata": {
  "kernelspec": {
   "display_name": "Python 3",
   "language": "python",
   "name": "python3"
  },
  "language_info": {
   "codemirror_mode": {
    "name": "ipython",
    "version": 3
   },
   "file_extension": ".py",
   "mimetype": "text/x-python",
   "name": "python",
   "nbconvert_exporter": "python",
   "pygments_lexer": "ipython3",
   "version": "3.12.6"
  }
 },
 "nbformat": 4,
 "nbformat_minor": 2
}
