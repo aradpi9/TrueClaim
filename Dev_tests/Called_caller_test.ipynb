{
 "cells": [
  {
   "cell_type": "markdown",
   "metadata": {},
   "source": [
    "# imports"
   ]
  },
  {
   "cell_type": "code",
   "execution_count": 75,
   "metadata": {},
   "outputs": [],
   "source": [
    "# imports\n",
    "import requests\n",
    "import pandas as pd\n",
    "from notion_client import Client\n",
    "import datetime\n",
    "import time\n",
    "import json"
   ]
  },
  {
   "cell_type": "markdown",
   "metadata": {},
   "source": [
    "# global setup"
   ]
  },
  {
   "cell_type": "code",
   "execution_count": 76,
   "metadata": {},
   "outputs": [],
   "source": [
    "BLEND_API_KEY = \"org_ba2e4ccfb75e56afc088d9804df57d2623542e8bbd3de2c02bfcb0024daa778c1850bba9de94a2d1ec6a69\"\n",
    "CALL_SCRIPT = \"6a5a0412-6481-4533-b560-cf72283e956b\"\n",
    "url = \"https://api.bland.ai/v1/calls\"\n",
    "GROQ_API_KEY = \"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\"\n",
    "groq_url = \"https://api.groq.com/openai/v1/chat/completions\"\n",
    "\n",
    "\n",
    "Customer_phone_number = \"+972545842444\"\n",
    "System_phone_number = \"null\"\n",
    "Interruption_Threshold_in_ms = 100\n",
    "LLM_temperature = 1\n",
    "\n",
    "Customer_name = \"John\"\n",
    "Home_address = \"123 Main St\"\n",
    "Agent_name = \"Christin\"\n",
    "Specialist_name = \"David\"\n",
    "Agent_voice = \"Public - June 2978\""
   ]
  },
  {
   "cell_type": "markdown",
   "metadata": {},
   "source": [
    "# call setup"
   ]
  },
  {
   "cell_type": "code",
   "execution_count": 77,
   "metadata": {},
   "outputs": [],
   "source": [
    "# Headers\n",
    "headers = {\n",
    "   'Authorization': BLEND_API_KEY,\n",
    "   \"Content-Type\": \"application/json\"\n",
    "}\n",
    "\n",
    "# Data\n",
    "data = {\n",
    "    \"phone_number\": Customer_phone_number,\n",
    "    \"task\": \"\",\n",
    "    \"model\": \"enhanced\",\n",
    "    \"language\": \"en-US\",\n",
    "    \"voice\": Agent_voice,\n",
    "    \"voice_settings\": {},\n",
    "    \"pathway_id\": CALL_SCRIPT,\n",
    "    \"pathway_version\": \"1\", # this is for testing, delete for production\n",
    "    \"local_dialing\": False,\n",
    "    \"max_duration\": \"12\",\n",
    "    \"answered_by_enabled\": False,\n",
    "    \"wait_for_greeting\": True,\n",
    "    \"noise_cancellation\": True,\n",
    "    \"ignore_button_press\": True,\n",
    "    \"record\": False,\n",
    "    \"amd\": False,\n",
    "    \"interruption_threshold\": Interruption_Threshold_in_ms,\n",
    "    \"voicemail_message\": \"test\",\n",
    "    \"temperature\": LLM_temperature,\n",
    "    \"transfer_list\": {},\n",
    "    \"pronunciation_guide\": [],\n",
    "    \"request_data\": {\n",
    "    \"customer name\": Customer_name,\n",
    "    \"home address\": Home_address,\n",
    "    \"agent name\": Agent_name,\n",
    "    },\n",
    "    \"retry\": {\n",
    "    \"wait\": 720,\n",
    "    \"voicemail_action\": \"hangup\",\n",
    "    \"voicemail_message\": \"\"\n",
    "    },\n",
    "    \"dynamic_data\": [],\n",
    "    \"analysis_schema\": {},\n",
    "    \"calendly\": {},\n",
    "    \"timezone\": \"America/New_York\"\n",
    "\n",
    "}\n",
    "\n",
    "# API request"
   ]
  },
  {
   "cell_type": "markdown",
   "metadata": {},
   "source": [
    "# Call action"
   ]
  },
  {
   "cell_type": "code",
   "execution_count": 78,
   "metadata": {},
   "outputs": [
    {
     "name": "stdout",
     "output_type": "stream",
     "text": [
      "{'status': 'success', 'message': 'Call successfully queued.', 'call_id': '0ffe5197-d348-42df-a69d-657dd5b1ab9a', 'batch_id': None}\n",
      "Call is still active\n",
      "Call is still active\n",
      "Call is still active\n",
      "Call is still active\n",
      "completed\n"
     ]
    }
   ],
   "source": [
    "\n",
    "#send the call\n",
    "send_call_response = json.loads(requests.request(\"POST\", url, json=data, headers=headers).text)\n",
    "#print status \n",
    "print(send_call_response)\n",
    "\n",
    "#extract call id\n",
    "call_id = send_call_response[\"call_id\"]\n",
    "\n",
    "#check if call is active:\n",
    "call_id_response = json.loads(requests.request(\"GET\", url+\"/\"+call_id, headers=headers).text)\n",
    "while call_id_response[\"completed\"] == False:\n",
    "    time.sleep(3)\n",
    "    print(\"Call is still active\")   \n",
    "    call_id_response = json.loads(requests.request(\"GET\", url+\"/\"+call_id, headers=headers).text)\n",
    "\n",
    "    \n",
    "print(\"completed\")\n"
   ]
  },
  {
   "cell_type": "code",
   "execution_count": 79,
   "metadata": {},
   "outputs": [
    {
     "data": {
      "text/plain": [
       "{'call_id': '0ffe5197-d348-42df-a69d-657dd5b1ab9a',\n",
       " 'c_id': '0ffe5197-d348-42df-a69d-657dd5b1ab9a',\n",
       " 'call_length': 0,\n",
       " 'batch_id': None,\n",
       " 'to': '+972545842444',\n",
       " 'from': '+15712237600',\n",
       " 'completed': True,\n",
       " 'created_at': '2025-02-10T10:42:33.3+00:00',\n",
       " 'inbound': False,\n",
       " 'queue_status': 'complete',\n",
       " 'max_duration': 12,\n",
       " 'error_message': None,\n",
       " 'variables': None,\n",
       " 'answered_by': None,\n",
       " 'record': False,\n",
       " 'recording_url': None,\n",
       " 'metadata': {},\n",
       " 'summary': None,\n",
       " 'price': 0,\n",
       " 'started_at': '2025-02-10T10:42:33+00:00',\n",
       " 'local_dialing': False,\n",
       " 'call_ended_by': None,\n",
       " 'pathway_logs': None,\n",
       " 'analysis_schema': None,\n",
       " 'analysis': None,\n",
       " 'transferred_to': None,\n",
       " 'pathway_tags': [],\n",
       " 'recording_expiration': None,\n",
       " 'status': 'busy',\n",
       " 'pathway_id': '6a5a0412-6481-4533-b560-cf72283e956b',\n",
       " 'concatenated_transcript': '',\n",
       " 'transcripts': [],\n",
       " 'corrected_duration': '0',\n",
       " 'end_at': '2025-02-10T10:42:40.000Z'}"
      ]
     },
     "execution_count": 79,
     "metadata": {},
     "output_type": "execute_result"
    }
   ],
   "source": [
    "call_id_response = json.loads(requests.request(\"GET\", url+\"/\"+call_id, headers=headers).text)\n",
    "call_id_response"
   ]
  },
  {
   "cell_type": "code",
   "execution_count": null,
   "metadata": {},
   "outputs": [],
   "source": [
    "call_id = '787b32a7-8ea2-4006-8fa2-f44e82b7bd9f'\n",
    "call_id_response = json.loads(requests.request(\"GET\", url+\"/\"+call_id, headers=headers).text)\n",
    "call_id_response"
   ]
  },
  {
   "cell_type": "code",
   "execution_count": null,
   "metadata": {},
   "outputs": [],
   "source": []
  },
  {
   "cell_type": "code",
   "execution_count": 80,
   "metadata": {},
   "outputs": [],
   "source": [
    "# extract call information\n",
    "call_id_response = json.loads(requests.request(\"GET\", url+\"/\"+call_id, headers=headers).text)\n",
    "call_info_dict = {}\n",
    "# if call cosutmer is interested\n",
    "if \"Interested\" in call_id_response[\"pathway_tags\"]:\n",
    "    \n",
    "    # collect time started\n",
    "    print(call_id_response[\"created_at\"])\n",
    "    call_info_dict[\"created_at\"] = call_id_response[\"created_at\"]\n",
    "    \n",
    "    # collect costumer email\n",
    "    print(call_id_response[\"variables\"][\"email\"])\n",
    "    call_info_dict[\"email\"] = call_id_response[\"variables\"][\"email\"]\n",
    "    \n",
    "    # collect follow up date from transcription\n",
    "    # Call to Groq API\n",
    "    headers = {\n",
    "        \"Authorization\": f\"Bearer {GROQ_API_KEY}\",\n",
    "        \"Content-Type\": \"application/json\"\n",
    "    }\n",
    "    payload = {\n",
    "        \"model\": \"deepseek-r1-distill-llama-70b\",\n",
    "        \"messages\": [\n",
    "            {\"role\": \"system\", \"content\": \"You are an AI assistant tasked with analyzing call transcripts and suggesting specific follow-up dates, please resonse with specific time and date format, for example: \\\"February 6, 2025 12:00 AM\\\", do not add any other text\"},\n",
    "            {\"role\": \"user\", \"content\": f\"Based on this call transcript, suggest a specific follow-up date: {call_id_response['concatenated_transcript']}, the time of the call is{call_id_response[\"created_at\"]}\"}\n",
    "        ]\n",
    "    }\n",
    "    groq_response = requests.post(groq_url, json=payload, headers=headers)\n",
    "    follow_up_date = groq_response.json()['choices'][0]['message']['content'].strip().split('\\n')[-1]\n",
    "    \n",
    "    print(follow_up_date)\n",
    "    call_info_dict[\"follow up date\"] = follow_up_date\n",
    "       \n",
    "       \n",
    "    # collect call decision   \n",
    "    print(call_id_response[\"pathway_tags\"])\n",
    "    call_info_dict[\"decision\"] = call_id_response[\"pathway_tags\"][0]\n",
    "    \n",
    "    print(call_id_response[\"concatenated_transcript\"])\n",
    "    call_info_dict[\"script\"] = call_id_response[\"concatenated_transcript\"]\n",
    "    \n",
    "    \n",
    "    \n",
    "    \n",
    "elif not call_id_response[\"pathway_tags\"]:\n",
    "    #collect Follow Up Date\n",
    "\n",
    "    # update Next Follow Up Date to 4 hours after the call\n",
    "    call_info_dict[\"Next Follow Up Date\"] = (pd.to_datetime(call_id_response[\"created_at\"]) + pd.Timedelta(days=7)).strftime('%Y-%m-%d %H:%M:%S')\n",
    "    "
   ]
  },
  {
   "cell_type": "code",
   "execution_count": 81,
   "metadata": {},
   "outputs": [
    {
     "data": {
      "text/plain": [
       "{'Next Follow Up Date': '2025-02-17 10:42:33'}"
      ]
     },
     "execution_count": 81,
     "metadata": {},
     "output_type": "execute_result"
    }
   ],
   "source": [
    "call_info_dict"
   ]
  }
 ],
 "metadata": {
  "kernelspec": {
   "display_name": "Python 3",
   "language": "python",
   "name": "python3"
  },
  "language_info": {
   "codemirror_mode": {
    "name": "ipython",
    "version": 3
   },
   "file_extension": ".py",
   "mimetype": "text/x-python",
   "name": "python",
   "nbconvert_exporter": "python",
   "pygments_lexer": "ipython3",
   "version": "3.12.6"
  }
 },
 "nbformat": 4,
 "nbformat_minor": 2
}
