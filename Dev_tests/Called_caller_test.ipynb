{
 "cells": [
  {
   "cell_type": "markdown",
   "metadata": {},
   "source": [
    "# imports"
   ]
  },
  {
   "cell_type": "code",
   "execution_count": 11,
   "metadata": {},
   "outputs": [],
   "source": [
    "import requests"
   ]
  },
  {
   "cell_type": "markdown",
   "metadata": {},
   "source": [
    "# global setup"
   ]
  },
  {
   "cell_type": "code",
   "execution_count": 12,
   "metadata": {},
   "outputs": [],
   "source": [
    "BLEND_API_KEY = \"org_ba2e4ccfb75e56afc088d9804df57d2623542e8bbd3de2c02bfcb0024daa778c1850bba9de94a2d1ec6a69\"\n",
    "CALL_SCRIPT = \"6a5a0412-6481-4533-b560-cf72283e956b\"\n",
    "url = \"https://api.bland.ai/v1/calls\"\n",
    "Customer_phone_number = \"+972545842444\"\n",
    "System_phone_number = \"null\"\n",
    "Interruption_Threshold_in_ms = 100\n",
    "LLM_temperature = 1\n",
    "\n",
    "Customer_name = \"John\"\n",
    "Home_address = \"123 Main St\"\n",
    "Agent_name = \"Cristin\"\n"
   ]
  },
  {
   "cell_type": "markdown",
   "metadata": {},
   "source": [
    "# call setup"
   ]
  },
  {
   "cell_type": "code",
   "execution_count": 4,
   "metadata": {},
   "outputs": [],
   "source": [
    "# Headers\n",
    "headers = {\n",
    "   'Authorization': BLEND_API_KEY,\n",
    "   \"Content-Type\": \"application/json\"\n",
    "}\n",
    "\n",
    "# Data\n",
    "data = {\n",
    "    \"phone_number\": Customer_phone_number,\n",
    "    \"task\": \"\",\n",
    "    \"model\": \"enhanced\",\n",
    "    \"language\": \"en\",\n",
    "    \"voice\": \"Public - June 2978\",\n",
    "    \"voice_settings\": {},\n",
    "    \"pathway_id\": CALL_SCRIPT,\n",
    "    \"pathway_version\": \"1\", # this is for testing, delete for production\n",
    "    \"local_dialing\": False,\n",
    "    \"max_duration\": \"12\",\n",
    "    \"answered_by_enabled\": False,\n",
    "    \"wait_for_greeting\": True,\n",
    "    \"noise_cancellation\": True,\n",
    "    \"ignore_button_press\": True,\n",
    "    \"record\": False,\n",
    "    \"amd\": False,\n",
    "    \"interruption_threshold\": Interruption_Threshold_in_ms,\n",
    "    \"voicemail_message\": \"test\",\n",
    "    \"temperature\": LLM_temperature,\n",
    "    \"transfer_list\": {},\n",
    "    \"pronunciation_guide\": [],\n",
    "    \"request_data\": {\n",
    "    \"customer name\": Customer_name,\n",
    "    \"home address\": Home_address,\n",
    "    \"agent name\": Agent_name\n",
    "    },\n",
    "    \"retry\": {\n",
    "    \"wait\": 720,\n",
    "    \"voicemail_action\": \"hangup\",\n",
    "    \"voicemail_message\": \"\"\n",
    "    },\n",
    "    \"dynamic_data\": [],\n",
    "    \"analysis_schema\": {},\n",
    "    \"calendly\": {},\n",
    "    \"timezone\": \"America/New_York\"\n",
    "\n",
    "}\n",
    "\n",
    "# API request"
   ]
  },
  {
   "cell_type": "markdown",
   "metadata": {},
   "source": [
    "# Call action"
   ]
  },
  {
   "cell_type": "code",
   "execution_count": 13,
   "metadata": {},
   "outputs": [
    {
     "name": "stdout",
     "output_type": "stream",
     "text": [
      "{\"status\":\"success\",\"message\":\"Call successfully queued.\",\"call_id\":\"a852b303-5917-4f9f-b17b-0566ceeea8ff\",\"batch_id\":null}\n"
     ]
    }
   ],
   "source": [
    "\n",
    "response = requests.request(\"POST\", url, json=data, headers=headers)\n",
    "print(response.text)\n",
    "\n",
    "\n",
    "call_id = response.text[response.text.find(\"call_id\")+10:response.text.find(\"batch_id\")-3]\n"
   ]
  },
  {
   "cell_type": "code",
   "execution_count": 5,
   "metadata": {},
   "outputs": [
    {
     "name": "stdout",
     "output_type": "stream",
     "text": [
      "{\"call_id\":\"becb472e-80c3-419a-82c1-7d76e265af94\"\n",
      "\"c_id\":\"becb472e-80c3-419a-82c1-7d76e265af94\"\n",
      "\"call_length\":null\n",
      "\"batch_id\":null\n",
      "\"to\":\"+972545957684\"\n",
      "\"from\":\"+16232636516\"\n",
      "\"completed\":false\n",
      "\"created_at\":\"2025-02-02T10:18:22.746+00:00\"\n",
      "\"inbound\":false\n",
      "\"queue_status\":\"started\"\n",
      "\"max_duration\":12\n",
      "\"error_message\":null\n",
      "\"variables\":{\"now\":\"Sunday\n",
      " February 2\n",
      " 2025 5:18 AM\"\n",
      "\"now_utc\":\"Sunday\n",
      " February 2\n",
      " 2025 10:18 AM\"\n",
      "\"short_from\":\"6232636516\"\n",
      "\"short_to\":\"2545957684\"\n",
      "\"from\":\"+16232636516\"\n",
      "\"to\":\"+972545957684\"\n",
      "\"call_id\":\"becb472e-80c3-419a-82c1-7d76e265af94\"\n",
      "\"phone_number\":\"+972545957684\"\n",
      "\"country\":\"IL\"\n",
      "\"language\":\"English\"\n",
      "\"customer name\":\"John\"\n",
      "\"home address\":\"123 Main St\"\n",
      "\"agent name\":\"Cristin\"\n",
      "\"timestamp\":\"2025-02-02T05:18:33-05:00\"\n",
      "\"timezone\":\"America/New_York\"}\n",
      "\"answered_by\":\"human\"\n",
      "\"record\":false\n",
      "\"recording_url\":null\n",
      "\"metadata\":{}\n",
      "\"summary\":null\n",
      "\"price\":0\n",
      "\"started_at\":\"2025-02-02T10:18:33.739+00:00\"\n",
      "\"local_dialing\":false\n",
      "\"call_ended_by\":null\n",
      "\"pathway_logs\":null\n",
      "\"analysis_schema\":null\n",
      "\"analysis\":null\n",
      "\"transferred_to\":null\n",
      "\"pathway_tags\":[]\n",
      "\"recording_expiration\":null\n",
      "\"status\":\"in-progress\"\n",
      "\"pathway_id\":\"6a5a0412-6481-4533-b560-cf72283e956b\"\n",
      "\"concatenated_transcript\":\"user: Hello? \\n assistant: Hi\n",
      " is this John? \\n user: Yes. Hi. \\n assistant: Hi John\n",
      " my name is Cristin and I'm calling from TrueClaim Services. I've spent the last several days trying to find you. We specialize in auditing public records to search for unclaimed funds held by government agencies and owed to individuals. I believe I've found some funds that might belong to you. Can you confirm if you used to live at 123 Main St before? \\n user: Yes. \\n user: They did. \\n assistant: John\n",
      " it appears that the local courts are holding onto some funds that belong to you. \\n \"\n",
      "\"transcripts\":[{\"id\":85044356\n",
      "\"user\":\"user\"\n",
      "\"text\":\"Hello?\"\n",
      "\"created_at\":\"2025-02-02T10:18:35.185097+00:00\"}\n",
      "{\"id\":85044362\n",
      "\"user\":\"assistant\"\n",
      "\"text\":\"Hi\n",
      " is this John?\"\n",
      "\"created_at\":\"2025-02-02T10:18:36.225077+00:00\"}\n",
      "{\"id\":85044370\n",
      "\"user\":\"user\"\n",
      "\"text\":\"Yes. Hi.\"\n",
      "\"created_at\":\"2025-02-02T10:18:39.257844+00:00\"}\n",
      "{\"id\":85044375\n",
      "\"user\":\"assistant\"\n",
      "\"text\":\"Hi John\n",
      " my name is Cristin and I'm calling from TrueClaim Services. I've spent the last several days trying to find you. We specialize in auditing public records to search for unclaimed funds held by government agencies and owed to individuals. I believe I've found some funds that might belong to you. Can you confirm if you used to live at 123 Main St before?\"\n",
      "\"created_at\":\"2025-02-02T10:18:40.785456+00:00\"}\n",
      "{\"id\":85044398\n",
      "\"user\":\"user\"\n",
      "\"text\":\"Yes.\"\n",
      "\"created_at\":\"2025-02-02T10:18:59.35909+00:00\"}\n",
      "{\"id\":85044399\n",
      "\"user\":\"user\"\n",
      "\"text\":\"They did.\"\n",
      "\"created_at\":\"2025-02-02T10:19:00.063248+00:00\"}\n",
      "{\"id\":85044404\n",
      "\"user\":\"assistant\"\n",
      "\"text\":\"John\n",
      " it appears that the local courts are holding onto some funds that belong to you.\"\n",
      "\"created_at\":\"2025-02-02T10:19:01.586137+00:00\"}]\n",
      "\"corrected_duration\":\"0\"\n",
      "\"end_at\":null}\n"
     ]
    }
   ],
   "source": [
    "\n",
    "url = f\"https://api.bland.ai/v1/calls/{call_id}\"\n",
    "\n",
    "headers = {\"authorization\": BLEND_API_KEY}\n",
    "\n",
    "response = requests.request(\"GET\", url, headers=headers)\n",
    "\n",
    "for line in response.text.split(\",\"):\n",
    "    print(line)"
   ]
  },
  {
   "cell_type": "code",
   "execution_count": 1,
   "metadata": {},
   "outputs": [
    {
     "ename": "NameError",
     "evalue": "name 'response' is not defined",
     "output_type": "error",
     "traceback": [
      "\u001b[1;31m---------------------------------------------------------------------------\u001b[0m",
      "\u001b[1;31mNameError\u001b[0m                                 Traceback (most recent call last)",
      "Cell \u001b[1;32mIn[1], line 1\u001b[0m\n\u001b[1;32m----> 1\u001b[0m \u001b[43mresponse\u001b[49m\u001b[38;5;241m.\u001b[39mtext\u001b[38;5;241m.\u001b[39mfind(\u001b[38;5;124m\"\u001b[39m\u001b[38;5;124msummary\u001b[39m\u001b[38;5;124m\"\u001b[39m)\n",
      "\u001b[1;31mNameError\u001b[0m: name 'response' is not defined"
     ]
    }
   ],
   "source": [
    "response.text.find(\"summary\")"
   ]
  },
  {
   "cell_type": "code",
   "execution_count": 58,
   "metadata": {},
   "outputs": [
    {
     "name": "stdout",
     "output_type": "stream",
     "text": [
      "Call successful\n"
     ]
    }
   ],
   "source": [
    "\n",
    "if response.text.find(\"End call - Booked\"):\n",
    "    #update follow up date and status on DB\n",
    "    pass    \n",
    "elif response.text.find(\"End Call - not interested\"):\n",
    "    #update user as not interested\n",
    "    pass\n",
    "elif response.text.find(\"end call - follow up for better deal\"):\n",
    "    #update user as need better deal\n",
    "    pass\n",
    "elif response.text.find(\"End call - follow up\"):\n",
    "    #update follow up date for recall\n",
    "    pass\n",
    "elif response.text.find(\"End call - follow up to correct costumer\"):\n",
    "    #update costumer contact information and recall\n",
    "    pass\n"
   ]
  }
 ],
 "metadata": {
  "kernelspec": {
   "display_name": "Python 3",
   "language": "python",
   "name": "python3"
  },
  "language_info": {
   "codemirror_mode": {
    "name": "ipython",
    "version": 3
   },
   "file_extension": ".py",
   "mimetype": "text/x-python",
   "name": "python",
   "nbconvert_exporter": "python",
   "pygments_lexer": "ipython3",
   "version": "3.12.6"
  }
 },
 "nbformat": 4,
 "nbformat_minor": 2
}
