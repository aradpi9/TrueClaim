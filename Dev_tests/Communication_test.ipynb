{
 "cells": [
  {
   "cell_type": "code",
   "execution_count": 1,
   "metadata": {},
   "outputs": [],
   "source": [
    "# imports\n",
    "import requests\n",
    "import pandas as pd\n",
    "from notion_client import Client\n",
    "import datetime\n",
    "import json\n",
    "import time"
   ]
  },
  {
   "cell_type": "code",
   "execution_count": null,
   "metadata": {},
   "outputs": [],
   "source": [
    "def send_communication(notion_raw_id): \n",
    "    \n",
    "    \n",
    "   # info needed from Notion : Email, Phone, first name, last name  \n",
    "   ZOHO_CLIENT_ID = '1000.VO682Z1FM15RTS0EPC3QG9OR3ZA81J' \n",
    "   ZOHO_CLIENT_SECRET = '73966cb9ddadac75baa08767dc1e8fd4caaa758b54'\n",
    "   code = \"1000.b4f2262dcb01a3020de73d65ca23f889.0da1dcff24375744507be8b85e388a2b\"\n",
    "    \n",
    "    \n",
    "    "
   ]
  },
  {
   "cell_type": "code",
   "execution_count": 25,
   "metadata": {},
   "outputs": [
    {
     "name": "stderr",
     "output_type": "stream",
     "text": [
      "127.0.0.1 - - [12/Feb/2025 11:58:45] \"GET /?code=1000.ba9a97f37485d89502283905b2a547a1.521cb4f9ced0e99d1a8a6c363d781251&location=us&accounts-server=https%3A%2F%2Faccounts.zoho.com& HTTP/1.1\" 200 -\n"
     ]
    }
   ],
   "source": [
    "def get_zoho_auth_code():\n",
    "    import webbrowser\n",
    "    from http.server import HTTPServer, BaseHTTPRequestHandler\n",
    "    from urllib.parse import urlparse, parse_qs\n",
    "\n",
    "    scope = 'ZohoMail.messages.ALL,ZohoMail.accounts.READ,ZohoMail.messages.CREATE'\n",
    "    ZOHO_CLIENT_ID = '1000.VO682Z1FM15RTS0EPC3QG9OR3ZA81J'\n",
    "    redirect_uri = 'http://localhost&prompt=consent' \n",
    "    \n",
    "    auth_url = f\"https://accounts.zoho.com/oauth/v2/auth?scope={scope}&client_id={ZOHO_CLIENT_ID}&response_type=code&access_type=offline&redirect_uri={redirect_uri}\"\n",
    "\n",
    "    class RequestHandler(BaseHTTPRequestHandler):\n",
    "        def do_GET(self):\n",
    "            self.send_response(200)\n",
    "            self.end_headers()\n",
    "            self.server.path = self.path\n",
    "\n",
    "    def run_server():\n",
    "        server = HTTPServer(('localhost', 80), RequestHandler)\n",
    "        server.handle_request()\n",
    "        return server.path\n",
    "\n",
    "    webbrowser.open(auth_url)\n",
    "    callback_url = run_server()\n",
    "    \n",
    "    parsed_url = urlparse(callback_url)\n",
    "    auth_code = parse_qs(parsed_url.query)['code'][0]\n",
    "    \n",
    "    return auth_code\n",
    "\n",
    "code = get_zoho_auth_code()"
   ]
  },
  {
   "cell_type": "code",
   "execution_count": 26,
   "metadata": {},
   "outputs": [
    {
     "data": {
      "text/plain": [
       "'1000.ba9a97f37485d89502283905b2a547a1.521cb4f9ced0e99d1a8a6c363d781251'"
      ]
     },
     "execution_count": 26,
     "metadata": {},
     "output_type": "execute_result"
    }
   ],
   "source": [
    "code"
   ]
  },
  {
   "cell_type": "code",
   "execution_count": 27,
   "metadata": {},
   "outputs": [
    {
     "name": "stdout",
     "output_type": "stream",
     "text": [
      "\n",
      "Access Token: 1000.8577832de9cbef0e3aa925947399bf51.1e10c39da860079682ede58f5a104865\n",
      "\n",
      "Refresh Token: 1000.8e189778917bde78b6b8fd1fced5a6f8.b34bcab0a7248cf421fc8608c134348e\n",
      "\n",
      "Expires in: 3600 seconds\n"
     ]
    }
   ],
   "source": [
    "# get aouth token\n",
    "import requests\n",
    "\n",
    "def get_zoho_tokens(auth_code, client_id, client_secret):\n",
    "    \"\"\"\n",
    "    Exchange authorization code for access token and refresh token\n",
    "    \"\"\"\n",
    "    token_url = \"https://accounts.zoho.com/oauth/v2/token\"\n",
    "    \n",
    "    data = {\n",
    "        \"code\": auth_code,\n",
    "        \"client_id\": client_id,\n",
    "        \"client_secret\": client_secret,\n",
    "        \"redirect_uri\": \"http://localhost\",\n",
    "        \"grant_type\": \"authorization_code\"\n",
    "    }\n",
    "    \n",
    "    response = requests.post(token_url, data=data)\n",
    "    return response.json()\n",
    "\n",
    "# Replace these with your actual values\n",
    "CLIENT_ID = \"1000.VO682Z1FM15RTS0EPC3QG9OR3ZA81J\"  # Your client ID\n",
    "CLIENT_SECRET = \"73966cb9ddadac75baa08767dc1e8fd4caaa758b54\"  # Your client secret\n",
    "AUTH_CODE = code  # The code you just received\n",
    "\n",
    "# Get the tokens\n",
    "result = get_zoho_tokens(AUTH_CODE, CLIENT_ID, CLIENT_SECRET)\n",
    "\n",
    "# Print the results\n",
    "if \"access_token\" in result:\n",
    "    print(\"\\nAccess Token:\", result[\"access_token\"])\n",
    "    print(\"\\nRefresh Token:\", result[\"refresh_token\"])\n",
    "    print(\"\\nExpires in:\", result[\"expires_in\"], \"seconds\")\n",
    "else:\n",
    "    print(\"Error:\", result)\n"
   ]
  },
  {
   "cell_type": "code",
   "execution_count": 1,
   "metadata": {},
   "outputs": [
    {
     "name": "stdout",
     "output_type": "stream",
     "text": [
      "\n",
      "New Access Token: 1000.421844717b4a48a74686fd4e04fe0356.21734a46e5936e5efcc4181f9067c800\n",
      "\n",
      "Expires in: 3600 seconds\n"
     ]
    }
   ],
   "source": [
    "import requests\n",
    "\n",
    "def refresh_access_token(refresh_token, client_id, client_secret):\n",
    "    \"\"\"\n",
    "    Get a new access token using the refresh token\n",
    "    \"\"\"\n",
    "    token_url = \"https://accounts.zoho.com/oauth/v2/token\"\n",
    "    \n",
    "    data = {\n",
    "        \"refresh_token\": refresh_token,\n",
    "        \"client_id\": client_id,\n",
    "        \"client_secret\": client_secret,\n",
    "        \"grant_type\": \"refresh_token\"\n",
    "    }\n",
    "    \n",
    "    response = requests.post(token_url, data=data)\n",
    "    return response.json()\n",
    "\n",
    "# Example usage\n",
    "if __name__ == \"__main__\":\n",
    "    # Your credentials\n",
    "    CLIENT_ID = \"1000.VO682Z1FM15RTS0EPC3QG9OR3ZA81J\"  # Your client ID\n",
    "    CLIENT_SECRET = \"73966cb9ddadac75baa08767dc1e8fd4caaa758b54\"  # Your client secret\n",
    "    REFRESH_TOKEN = \"1000.8e189778917bde78b6b8fd1fced5a6f8.b34bcab0a7248cf421fc8608c134348e\"  # This is the long-lived token you received initially\n",
    "    \n",
    "    # Get new access token\n",
    "    result = refresh_access_token(REFRESH_TOKEN, CLIENT_ID, CLIENT_SECRET)\n",
    "    \n",
    "    if \"access_token\" in result:\n",
    "        print(\"\\nNew Access Token:\", result[\"access_token\"])\n",
    "        print(\"\\nExpires in:\", result[\"expires_in\"], \"seconds\")\n",
    "    else:\n",
    "        print(\"Error:\", result)\n"
   ]
  },
  {
   "cell_type": "code",
   "execution_count": 6,
   "metadata": {},
   "outputs": [
    {
     "data": {
      "text/plain": [
       "'1000.421844717b4a48a74686fd4e04fe0356.21734a46e5936e5efcc4181f9067c800'"
      ]
     },
     "execution_count": 6,
     "metadata": {},
     "output_type": "execute_result"
    }
   ],
   "source": [
    "result['access_token']"
   ]
  },
  {
   "cell_type": "code",
   "execution_count": 8,
   "metadata": {},
   "outputs": [
    {
     "name": "stdout",
     "output_type": "stream",
     "text": [
      "Response Status: 200\n",
      "Response Body: {\"status\":{\"code\":200,\"description\":\"success\"},\"data\":[{\"country\":\"il\",\"lastLogin\":1739346052570,\"mxStatus\":true,\"activeSyncEnabled\":false,\"mobileNumber\":\"\",\"incomingBlocked\":false,\"language\":\"iw\",\"type\":\"ZOHO_ACCOUNT\",\"extraStorage\":{},\"incomingUserName\":\"info@trueclaim.org\",\"emailAddress\":[{\"isAlias\":false,\"isPrimary\":true,\"mailId\":\"info@trueclaim.org\",\"isConfirmed\":true}],\"mailboxStatus\":\"enabled\",\"popBlocked\":false,\"usedStorage\":0,\"spamcheckEnabled\":true,\"imapAccessEnabled\":false,\"timeZone\":\"Asia/Jerusalem\",\"accountCreationTime\":1739012699591,\"zuid\":878306757,\"webBlocked\":false,\"planStorage\":5,\"firstName\":\"info\",\"accountId\":\"3454657000000008002\",\"sequence\":1,\"mailboxAddress\":\"info@trueclaim.org\",\"lastPasswordReset\":1739346044581,\"tfaEnabled\":false,\"iamStatus\":1,\"phoneNumer\":\"\",\"status\":true,\"lastName\":\"info\",\"accountDisplayName\":\"info\",\"role\":\"member\",\"gender\":\"NOT_SPECIFIED\",\"accountName\":\"trueclaim\",\"displayName\":\"info info\",\"isLogoExist\":false,\"URI\":\"https://mail.zoho.com/api/accounts/3454657000000008002\",\"primaryEmailAddress\":\"info@trueclaim.org\",\"enabled\":true,\"mailboxCreationTime\":1739012703350,\"basicStorage\":\"free\",\"lastClient\":\"WEB_ZM\",\"allowedStorage\":5242880,\"sendMailDetails\":[{\"sendMailId\":\"3454657000000008004\",\"displayName\":\"info info\",\"serverName\":\"smtpout.mail.zoho.com\",\"signatureId\":\"null\",\"serverPort\":25,\"userName\":\"info@trueclaim.org\",\"connectionType\":\"plain\",\"mode\":\"mailbox\",\"validated\":false,\"fromAddress\":\"info@trueclaim.org\",\"smtpConnection\":0,\"validationRequired\":true,\"validationState\":0,\"status\":true}],\"popFetchTime\":-1,\"address\":{\"country\":\"\",\"streetAddr\":\"\",\"city\":\"\",\"postalCode\":\"\",\"state\":\"\"},\"planType\":0,\"userExpiry\":-1,\"popAccessEnabled\":false,\"deliveryType\":\"LOCAL\",\"imapBlocked\":false,\"iamUserRole\":\"member\",\"outgoingBlocked\":false,\"policyId\":{\"zoid\":878306752,\"1082700000287584075\":\"Business Policy\"},\"isDesignatedMailbox\":false,\"smtpStatus\":true,\"extraEDiscoveryStorage\":{}}]}\n"
     ]
    }
   ],
   "source": [
    "import requests\n",
    "\n",
    "def get_zoho_account_id(auth_token):\n",
    "    \"\"\"Get Zoho Mail account ID using the access token\"\"\"\n",
    "    url = \"https://mail.zoho.com/api/accounts\"\n",
    "    \n",
    "    headers = {\n",
    "        \"Authorization\": f\"Bearer {auth_token}\"\n",
    "    }\n",
    "        \n",
    "    try:\n",
    "        response = requests.get(url, headers=headers)\n",
    "        print(f\"Response Status: {response.status_code}\")\n",
    "        print(f\"Response Body: {response.text}\")\n",
    "        \n",
    "        if response.status_code == 200:\n",
    "            data = response.json()\n",
    "            return data\n",
    "        else:\n",
    "            print(f\"Error: {response.text}\")\n",
    "            return None\n",
    "    except Exception as e:\n",
    "        print(f\"An error occurred: {str(e)}\")\n",
    "        return None\n",
    "\n",
    "# Your access token from the previous step\n",
    "AUTH_TOKEN = \"1000.421844717b4a48a74686fd4e04fe0356.21734a46e5936e5efcc4181f9067c800\"\n",
    "\n",
    "# Get account information\n",
    "account_info = get_zoho_account_id(AUTH_TOKEN)\n"
   ]
  },
  {
   "cell_type": "code",
   "execution_count": 4,
   "metadata": {},
   "outputs": [
    {
     "name": "stdout",
     "output_type": "stream",
     "text": [
      "Failed to send email. Status code: 404\n",
      "Response: {\"data\":{\"errorCode\":\"INVALID_OAUTHTOKEN\"},\"status\":{\"code\":404,\"description\":\"Invalid Input\"}}\n"
     ]
    }
   ],
   "source": [
    "import requests\n",
    "import json\n",
    "\n",
    "def send_email_zoho(from_email, to_email, subject, content, auth_token):\n",
    "    \"\"\"\n",
    "    Send an email using ZOHO Mail API\n",
    "    \n",
    "    Parameters:\n",
    "    - from_email: Sender's email address\n",
    "    - to_email: Recipient's email address\n",
    "    - subject: Email subject\n",
    "    - content: Email content\n",
    "    - auth_token: OAuth access token\n",
    "    \"\"\"\n",
    "    \n",
    "    # API endpoint with your account ID\n",
    "    url = \"https://mail.zoho.com/api/accounts/3454657000000008002/messages\"\n",
    "    \n",
    "    # Headers\n",
    "    headers = {\n",
    "        \"Authorization\": f\"Bearer {auth_token}\",\n",
    "        \"Content-Type\": \"application/json\"\n",
    "    }\n",
    "    \n",
    "    # Request body\n",
    "    payload = {\n",
    "        \"fromAddress\": from_email,\n",
    "        \"toAddress\": to_email,\n",
    "        \"subject\": subject,\n",
    "        \"content\": content,\n",
    "        \"mailFormat\": \"html\"\n",
    "    }\n",
    "    \n",
    "    try:\n",
    "        # Send POST request\n",
    "        response = requests.post(url, headers=headers, json=payload)\n",
    "        \n",
    "        # Check if request was successful\n",
    "        if response.status_code == 200:\n",
    "            print(\"Email sent successfully!\")\n",
    "            return response.json()\n",
    "        else:\n",
    "            print(f\"Failed to send email. Status code: {response.status_code}\")\n",
    "            print(f\"Response: {response.text}\")\n",
    "            return response.json()\n",
    "            \n",
    "    except Exception as e:\n",
    "        print(f\"An error occurred: {str(e)}\")\n",
    "        return None\n",
    "\n",
    "# Example usage\n",
    "if __name__ == \"__main__\":\n",
    "    # Your authenticated credentials\n",
    "    AUTH_TOKEN = \"1000.7b76f88749d11381e67b2f58a8669f92.a077a6bcb86ea66f840f2c8421f96c85\"\n",
    "    FROM_EMAIL = \"info@trueclaim.org\"  # Your Zoho email\n",
    "    TO_EMAIL = \"info@trueclaim.org\"  # Replace with the recipient's email\n",
    "    SUBJECT = \"Test Email from ZOHO API\"\n",
    "    CONTENT = \"\"\"\n",
    "    <html>\n",
    "        <body>\n",
    "            <h1>Hello!</h1>\n",
    "            <p>This is a test email sent using the ZOHO Mail API.</p>\n",
    "        </body>\n",
    "    </html>\n",
    "    \"\"\"\n",
    "    \n",
    "    # Send the email\n",
    "    result = send_email_zoho(\n",
    "        FROM_EMAIL,\n",
    "        TO_EMAIL,\n",
    "        SUBJECT,\n",
    "        CONTENT,\n",
    "        AUTH_TOKEN\n",
    "    )\n"
   ]
  },
  {
   "cell_type": "code",
   "execution_count": 7,
   "metadata": {},
   "outputs": [
    {
     "data": {
      "text/plain": [
       "True"
      ]
     },
     "execution_count": 7,
     "metadata": {},
     "output_type": "execute_result"
    }
   ],
   "source": [
    "result['data']['errorCode'] == 'INVALID_OAUTHTOKEN'"
   ]
  },
  {
   "cell_type": "code",
   "execution_count": null,
   "metadata": {},
   "outputs": [],
   "source": []
  }
 ],
 "metadata": {
  "kernelspec": {
   "display_name": "Python 3",
   "language": "python",
   "name": "python3"
  },
  "language_info": {
   "codemirror_mode": {
    "name": "ipython",
    "version": 3
   },
   "file_extension": ".py",
   "mimetype": "text/x-python",
   "name": "python",
   "nbconvert_exporter": "python",
   "pygments_lexer": "ipython3",
   "version": "3.12.6"
  }
 },
 "nbformat": 4,
 "nbformat_minor": 2
}
