{
 "cells": [
  {
   "cell_type": "markdown",
   "metadata": {},
   "source": [
    "thing to add:\n",
    "\n",
    "- [ ] add Logging for all\n",
    "- [ ] add \"did not answer\" counter, and set cold caller df pulling logic accordingly.\n",
    "- [ ] add SMS communication in addtion to Mail.\n",
    "- [ ] add \"call hang out for some reason\" logic.\n"
   ]
  },
  {
   "cell_type": "markdown",
   "metadata": {},
   "source": [
    "improts"
   ]
  },
  {
   "cell_type": "code",
   "execution_count": 6,
   "metadata": {},
   "outputs": [],
   "source": [
    "# imports\n",
    "import requests\n",
    "import pandas as pd\n",
    "from notion_client import Client\n",
    "import datetime\n",
    "import json\n",
    "import time\n",
    "import logging\n",
    "import os"
   ]
  },
  {
   "cell_type": "markdown",
   "metadata": {},
   "source": [
    "Configure logging"
   ]
  },
  {
   "cell_type": "code",
   "execution_count": 7,
   "metadata": {},
   "outputs": [],
   "source": [
    "log_directory = \"logs\"\n",
    "if not os.path.exists(log_directory):\n",
    "    os.makedirs(log_directory)\n",
    "\n",
    "log_filename = f\"batch_calls_{datetime.datetime.now().strftime('%Y%m%d_%H%M%S')}.log\"\n",
    "log_filepath = os.path.join(log_directory, log_filename)\n",
    "\n",
    "logging.basicConfig(\n",
    "    level=logging.INFO,\n",
    "    format='%(asctime)s - %(levelname)s - %(message)s',\n",
    "    handlers=[\n",
    "        logging.FileHandler(log_filepath),\n",
    "        logging.StreamHandler()  # This will also print to notebook output\n",
    "    ]\n",
    ")\n",
    "logger = logging.getLogger(__name__)"
   ]
  },
  {
   "cell_type": "markdown",
   "metadata": {},
   "source": [
    "Setup"
   ]
  },
  {
   "cell_type": "code",
   "execution_count": 8,
   "metadata": {},
   "outputs": [],
   "source": [
    "# BLENDAPI setup\n",
    "BLEND_API_KEY = \"org_ba2e4ccfb75e56afc088d9804df57d2623542e8bbd3de2c02bfcb0024daa778c1850bba9de94a2d1ec6a69\"\n",
    "Blend_url = \"https://api.bland.ai/v1/calls\"\n",
    "\n",
    "# groq setup\n",
    "GROQ_API_KEY = \"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\"\n",
    "groq_url = \"https://api.groq.com/openai/v1/chat/completions\"\n",
    "\n",
    "# Initialize Notion client\n",
    "NOTION_TOKEN = \"ntn_S6159294934albrajfceBHL4szrrrMllKAcFNUGM62v7JI\"\n",
    "DATABASE_ID = \"18316f1f61d680a2921bd08b8c62f895\"\n",
    "notion = Client(auth=NOTION_TOKEN)\n",
    "\n",
    "# call script setup\n",
    "COLD_CALL_SCRIPT = \"6a5a0412-6481-4533-b560-cf72283e956b\"\n",
    "CLOSER_CALL_SCRIPT = \"29e7ef67-4d36-4d15-aa09-0a38642fea26\"\n",
    "\n",
    "\n",
    "# call general information\n",
    "System_phone_number = \"+13363603640\"\n",
    "Interruption_Threshold_in_ms = 100\n",
    "LLM_temperature = 1\n",
    "Agent_name = \"Christin\"\n",
    "Cold_Agent_voice = \"Public - June 2978\"\n",
    "Specialist_name = \"David\"\n",
    "Closer_Agent_voice = \"mason (da9f34)\"\n",
    "\n",
    "# ZOHO setup\n",
    "ZOHO_CLIENT_ID = \"1000.VO682Z1FM15RTS0EPC3QG9OR3ZA81J\" # info@trueclaim.org client ID\n",
    "ZOHO_CLIENT_SECRET = \"73966cb9ddadac75baa08767dc1e8fd4caaa758b54\" # info@trueclaim.org client secret\n",
    "ZOHO_REFRESH_TOKEN = \"1000.8e189778917bde78b6b8fd1fced5a6f8.b34bcab0a7248cf421fc8608c134348e\"  # This is the long-lived token you received initially\n",
    "ZOHO_ACCOUNT_ID = \"3454657000000008002\" # info@trueclaim.org Account ID\n",
    "Zoho_auth_token = \"1\"\n",
    "ZOHO_URL = f\"https://mail.zoho.com/api/accounts/{ZOHO_ACCOUNT_ID}/messages\"\n"
   ]
  },
  {
   "cell_type": "markdown",
   "metadata": {},
   "source": [
    "function definition"
   ]
  },
  {
   "cell_type": "code",
   "execution_count": 26,
   "metadata": {},
   "outputs": [],
   "source": [
    "def pull_notion_data(type=\"all\"):\n",
    "    \"\"\"\n",
    "    Retrieves and filters data from a Notion database based on the specified type.\n",
    "    \n",
    "    Args:\n",
    "        type (str): The type of data to pull - \"cold\" for new/unanswered leads, \n",
    "                   \"closer\" for follow-up calls, or any other value for all data.\n",
    "    \n",
    "    Returns:\n",
    "        pandas.DataFrame: A filtered dataframe containing the requested data.\n",
    "    \"\"\"\n",
    "    \n",
    "    # Initialize empty array to store the data\n",
    "    data = []\n",
    "\n",
    "    # Query the Notion database using the API\n",
    "    response = notion.databases.query(database_id=DATABASE_ID)\n",
    "\n",
    "    # Iterate through each page in the database and extract relevant information\n",
    "    for page in response['results']:\n",
    "        properties = page.get('properties', {})\n",
    "        # Extract specific fields from the page properties\n",
    "        row = {\n",
    "            'notion raw id': page['id'],\n",
    "            'customer name': page['properties']['First name']['title'][0]['plain_text'],\n",
    "            'customer last name': page['properties']['Last name']['rich_text'][0]['plain_text'],\n",
    "            'Phone': page['properties']['Main contact phone']['phone_number'],\n",
    "            'Email': page['properties']['Main contact Email']['email'],\n",
    "            'Email collected': page['properties']['Main contact Email collected']['email'],\n",
    "            'home address': page['properties']['Property Street']['rich_text'][0]['plain_text'],\n",
    "            'Next Follow Up Date': page['properties']['Next Follow Up Date']['date']['start'] if page['properties']['Next Follow Up Date']['date'] else '',\n",
    "            'Claim': page['properties']['Status of Claim']['status']['name'],\n",
    "            'Lead': page['properties']['Status of lead']['status']['name'],   \n",
    "            'call id' : page['properties']['Last call ID']['rich_text'][0]['plain_text'] if page['properties']['Last call ID']['rich_text'] else '',\n",
    "            'cold call summary': page['properties']['cold call summary']['rich_text'][0]['plain_text'] if page['properties']['cold call summary']['rich_text'] else '',\n",
    "            'Active': page['properties']['Active']['select']['name']\n",
    "        }\n",
    "        data.append(row)\n",
    "    # Convert the collected data into a pandas DataFrame \n",
    "    df = pd.DataFrame(data)\n",
    "    # Convert date strings to datetime objects\n",
    "    df['Next Follow Up Date'] = pd.to_datetime(df['Next Follow Up Date'])\n",
    "\n",
    "    # Get current UTC time for comparison\n",
    "    current_time = pd.Timestamp.now(tz='America/New_York')\n",
    "    if type == \"cold\":\n",
    "\n",
    "        # Filter for new leads or leads that didn't answer and are past their follow-up date\n",
    "        return df[((df['Lead'] == 'New') \n",
    "                  & (df['Active'] == 'Yes')) \n",
    "                  | ((df['Lead'] == 'Did not answered') \n",
    "                  & (df['Next Follow Up Date'] < current_time) \n",
    "                  & (df['Active'] == 'Yes'))]   \n",
    "        \n",
    "    elif type == \"closer\":\n",
    "        \n",
    "        return df[(df['Lead'] == 'Interested') \n",
    "                  & (df['Active'] == 'Yes') \n",
    "                  & (df['Next Follow Up Date'] < current_time)]\n",
    "\n",
    "    else:    \n",
    "        return df\n",
    "        \n",
    "def get_follow_up_date_groq(transcription, call_date):\n",
    "    \"\"\"\n",
    "    Uses the Groq API to analyze a call transcript and suggest a follow-up date.\n",
    "    \n",
    "    Args:\n",
    "        transcription (str): The transcript of the call to analyze\n",
    "        call_date (str): The date when the call was made\n",
    "    \n",
    "    Returns:\n",
    "        str: A suggested follow-up date in ISO 8601 format (YYYY-MM-DD HH:MM:SS)\n",
    "    \"\"\"\n",
    "    # Set up the API headers with authentication\n",
    "    headers = {\n",
    "        \"Authorization\": f\"Bearer {GROQ_API_KEY}\",\n",
    "        \"Content-Type\": \"application/json\"\n",
    "    }\n",
    "    \n",
    "    # Prepare the API request payload\n",
    "    payload = {\n",
    "        \"model\": \"deepseek-r1-distill-llama-70b\",\n",
    "        \"messages\": [\n",
    "            {\n",
    "                \"role\": \"system\", \"content\": \"\"\"\n",
    "                You are an AI assistant tasked with reviewing call transcripts and find specific follow-up date.\n",
    "                response with the exeact time and date requested by the user, the senior representative is avialable all of the time.\n",
    "                also the time given to you is GMT time, please convert it to GMT-5 (North Carolina Time zone).\n",
    "                please resonse with ISO 8601 time and date format, for example: \\\"2025-02-06 12:00:00\\\", do not add any other text.\n",
    "                \"\"\"\n",
    "            },\n",
    "            {\n",
    "                \"role\": \"user\", \"content\": f\"Based on this call transcript, suggest a specific follow-up date: {transcription}, the time of the call is{call_date}\"\n",
    "            }\n",
    "        ]\n",
    "    }\n",
    "    \n",
    "    # Make the API call and extract the suggested date\n",
    "    groq_response = requests.post(groq_url, json=payload, headers=headers)\n",
    "    print (groq_response.json())\n",
    "    return groq_response.json()['choices'][0]['message']['content'].strip().split('\\n')[-1]\n",
    "\n",
    "def update_data_base_after_closer(notion_raw_id, call_id):\n",
    "    \"\"\"\n",
    "    Updates the Notion database with information from a completed closer call.\n",
    "    \n",
    "    Args:\n",
    "        notion_raw_id (str): The Notion page ID to update\n",
    "        call_id (str): The ID of the completed call\n",
    "    \"\"\"\n",
    "    # Retrieve call details from the API\n",
    "    call_id_response = json.loads(requests.request(\"GET\", Blend_url+\"/\"+call_id, headers=headers).text)\n",
    "\n",
    "    # Initialize dictionary to store call information\n",
    "    call_info_dict = {}\n",
    "    \n",
    "    # Store basic call information\n",
    "    call_info_dict[\"Last call date\"] = call_id_response[\"created_at\"]\n",
    "    call_info_dict[\"Last call ID\"] = call_id\n",
    "    \n",
    "    # Handle case where customer want to continue\n",
    "    if \"Documents sent for signiture\" in call_id_response[\"pathway_tags\"]:\n",
    "        \n",
    "        call_info_dict[\"Status of lead\"] = call_id_response[\"pathway_tags\"][0]\n",
    "        call_info_dict[\"closer call summary\"] = call_id_response[\"summary\"].split(\"Here is a concise and insightful summary of the call:\\n\\n\")[1]\n",
    "        call_info_dict[\"Status of Claim\"] = \"Approved and waiting for filled documents\"\n",
    "        # Update Notion database with all collected information\n",
    "        notion.pages.update(\n",
    "            page_id=notion_raw_id,\n",
    "            properties={\n",
    "                'closer call summary': {\n",
    "                    'rich_text': [{'text': {'content': call_info_dict[\"closer call summary\"]}}]\n",
    "                },\n",
    "                'Status of lead': {\n",
    "                    'status': {'name': call_info_dict[\"Status of lead\"]}\n",
    "                },\n",
    "                'Status of Claim': {\n",
    "                    'status': {'name': call_info_dict[\"Status of Claim\"]}\n",
    "                },\n",
    "                'Last call ID': {\n",
    "                    'rich_text': [{'text': {'content':call_info_dict[\"Last call ID\"]}}]\n",
    "                }\n",
    "            }\n",
    "        )\n",
    "        \n",
    "    # Handle case where customer did not answer\n",
    "    elif not call_id_response[\"pathway_tags\"]:\n",
    "        # Set follow-up date to 4 huors after the call\n",
    "\n",
    "        # update Next Follow Up Date to 4 huors after the call\n",
    "        call_info_dict[\"Next Follow Up Date\"] = (pd.to_datetime(call_id_response[\"created_at\"]) + pd.Timedelta(hours = 4)).strftime('%Y-%m-%d %H:%M:%S')\n",
    "\n",
    "        # update notion table with new follow up time and lead status\n",
    "        notion.pages.update(\n",
    "            page_id=notion_raw_id,\n",
    "            properties={\n",
    "                'Next Follow Up Date': {\n",
    "                    'date': {\n",
    "                        'start': call_info_dict[\"Next Follow Up Date\"]\n",
    "                    }\n",
    "                }\n",
    "            }\n",
    "        )\n",
    "        \n",
    "    elif \"Not interested\" in call_id_response[\"pathway_tags\"]:\n",
    "        #collect trascription and update notion database\n",
    "        \n",
    "        # collect cold call transcription\n",
    "        call_info_dict[\"closer call summary\"] = call_id_response[\"summary\"].split(\"Here is a concise and insightful summary of the call:\\n\\n\")[1]\n",
    "          \n",
    "        call_info_dict[\"Status of lead\"] = 'Not interested'\n",
    "        \n",
    "        # update notion table with new follow up time and lead status\n",
    "        notion.pages.update(\n",
    "            page_id=notion_raw_id,\n",
    "            properties={\n",
    "                'closer call summary': {\n",
    "                    'rich_text': [\n",
    "                        {\n",
    "                            'text': {\n",
    "                                'content': call_info_dict[\"closer call summary\"]\n",
    "                            }\n",
    "                        }\n",
    "                    ]\n",
    "                },\n",
    "                'Status of lead': {\n",
    "                    'status': {\n",
    "                        'name': call_info_dict[\"Status of lead\"]\n",
    "                    }\n",
    "                }\n",
    "            }\n",
    "        )\n",
    "        \n",
    "    else:\n",
    "        # call got hang out for some reason, need to think what to do\n",
    "        pass\n",
    "    \n",
    "def update_data_base_after_cold_call(notion_raw_id, call_id):\n",
    "    \"\"\"\n",
    "    Updates the Notion database with information from a completed cold call.\n",
    "    \n",
    "    Args:\n",
    "        notion_raw_id (str): The Notion page ID to update\n",
    "        call_id (str): The ID of the completed call\n",
    "    \"\"\"\n",
    "    # Retrieve call details from the API\n",
    "    call_id_response = json.loads(requests.request(\"GET\", Blend_url+\"/\"+call_id, headers=headers).text)\n",
    "\n",
    "    # Initialize dictionary to store call information\n",
    "    call_info_dict = {}\n",
    "    \n",
    "    # Store basic call information\n",
    "    call_info_dict[\"Last call date\"] = call_id_response[\"created_at\"]\n",
    "    call_info_dict[\"Last call ID\"] = call_id\n",
    "    \n",
    "    # Handle case where customer showed interest\n",
    "    if \"Interested\" in call_id_response[\"pathway_tags\"]:\n",
    "        # Collect additional information for interested customers\n",
    "        \n",
    "        call_info_dict[\"Main contact Email collected\"] = call_id_response[\"variables\"][\"email\"]\n",
    "        call_info_dict[\"Next Follow Up Date\"]  = get_follow_up_date_groq(\n",
    "            call_id_response['concatenated_transcript'],\n",
    "            call_id_response[\"created_at\"]\n",
    "        )\n",
    "        call_info_dict[\"Status of lead\"] = call_id_response[\"pathway_tags\"][0]\n",
    "        call_info_dict[\"cold call summary\"] = call_id_response[\"summary\"]\n",
    "        # Update Notion database with all collected information\n",
    "        notion.pages.update(\n",
    "            page_id=notion_raw_id,\n",
    "            properties={\n",
    "                'cold call summary': {\n",
    "                    'rich_text': [{'text': {'content': call_info_dict[\"cold call summary\"]}}]\n",
    "                },\n",
    "                'Status of lead': {\n",
    "                    'status': {'name': call_info_dict[\"Status of lead\"]}\n",
    "                },\n",
    "                'Main contact Email collected': {\n",
    "                    'email': call_info_dict[\"Main contact Email collected\"]\n",
    "                },\n",
    "                'Next Follow Up Date': {\n",
    "                    'date': {'start': call_info_dict[\"Next Follow Up Date\"]}\n",
    "                },\n",
    "                'Last call ID': {\n",
    "                    'rich_text': [{'text': {'content':call_info_dict[\"Last call ID\"]}}]\n",
    "                }\n",
    "            }\n",
    "        )\n",
    "        \n",
    "    # Handle case where customer did not answer\n",
    "    elif not call_id_response[\"pathway_tags\"]:\n",
    "        # Set follow-up date to 2 days after the call\n",
    "\n",
    "        # update Next Follow Up Date to 7 days after the call\n",
    "        call_info_dict[\"Next Follow Up Date\"] = (pd.Timestamp.now(tz='America/New_York') + pd.Timedelta(hours = 4)).strftime('%Y-%m-%d %H:%M:%S')\n",
    "        \n",
    "        call_info_dict[\"Status of lead\"] = 'Did not answered'\n",
    "        \n",
    "        # update notion table with new follow up time and lead status\n",
    "        notion.pages.update(\n",
    "            page_id=notion_raw_id,\n",
    "            properties={\n",
    "                'Status of lead': {\n",
    "                    'status': {\n",
    "                        'name': call_info_dict[\"Status of lead\"]\n",
    "                    }\n",
    "                },\n",
    "                'Next Follow Up Date': {\n",
    "                    'date': {\n",
    "                        'start': call_info_dict[\"Next Follow Up Date\"]\n",
    "                    }\n",
    "                }\n",
    "            }\n",
    "        )\n",
    "        \n",
    "    elif \"Not interested\" in call_id_response[\"pathway_tags\"]:\n",
    "        #collect trascription and update notion database\n",
    "        \n",
    "        # collect cold call summary\n",
    "        call_info_dict[\"cold call summary\"] = call_id_response[\"summary\"].split(\"Here is a concise and insightful summary of the call:\\n\\n\")[1]\n",
    "          \n",
    "        call_info_dict[\"Status of lead\"] = 'Not interested'\n",
    "        \n",
    "        # update notion table with new follow up time and lead status\n",
    "        notion.pages.update(\n",
    "            page_id=notion_raw_id,\n",
    "            properties={\n",
    "                'cold call summary': {\n",
    "                    'rich_text': [\n",
    "                        {\n",
    "                            'text': {\n",
    "                                'content': call_info_dict[\"cold call summary\"]\n",
    "                            }\n",
    "                        }\n",
    "                    ]\n",
    "                },\n",
    "                'Status of lead': {\n",
    "                    'status': {\n",
    "                        'name': call_info_dict[\"Status of lead\"]\n",
    "                    }\n",
    "                }\n",
    "            }\n",
    "        )\n",
    "        \n",
    "    elif \"Asked for follow up\" in call_id_response[\"pathway_tags\"]:\n",
    "        #collect follow up date and update notion DB\n",
    "        \n",
    "        # collect cold call transcription   \n",
    "        call_info_dict[\"Next Follow Up Date\"]  = get_follow_up_date_groq(call_id_response['concatenated_transcript'], call_id_response[\"created_at\"])\n",
    "        \n",
    "        call_info_dict[\"Status of lead\"] = 'Asked for follow up'\n",
    "        \n",
    "        # update notion table with new follow up time and lead status        \n",
    "        notion.pages.update(\n",
    "            page_id=notion_raw_id,\n",
    "            properties={\n",
    "                'Status of lead': {\n",
    "                    'status': {\n",
    "                        'name': call_info_dict[\"Status of lead\"]\n",
    "                    }\n",
    "                },\n",
    "                'Next Follow Up Date': {\n",
    "                    'date': {\n",
    "                        'start': call_info_dict[\"Next Follow Up Date\"]\n",
    "                    }\n",
    "                }\n",
    "            }\n",
    "        )\n",
    "        \n",
    "    else:\n",
    "        # call got hang out for some reason, need to think what to do\n",
    "        pass\n",
    "            \n",
    "def send_mail(Subject , Content, user_info_df):\n",
    "    global Zoho_auth_token\n",
    "    # Headers\n",
    "    headers = {\n",
    "        \"Authorization\": f\"Bearer {Zoho_auth_token}\",\n",
    "        \"Content-Type\": \"application/json\"\n",
    "    }\n",
    "\n",
    "    Recipients = ','.join(list(set(user_info_df['Email collected'].values[0].split(\",\") + user_info_df['Email'].values[0].split(\",\"))))\n",
    "\n",
    "    # Request body\n",
    "    payload = {\n",
    "        \"fromAddress\": \"info@trueclaim.org\",  # Your Zoho email\n",
    "        \"toAddress\": Recipients,\n",
    "        \"subject\": Subject,\n",
    "        \"content\": Content,\n",
    "        \"mailFormat\": \"html\"\n",
    "    }\n",
    "\n",
    "\n",
    "    # try to send the mail\n",
    "    response = requests.post(ZOHO_URL, headers=headers, json=payload)\n",
    "    response = response.json()\n",
    "\n",
    "    if response['status']['code'] == 200:\n",
    "        print(\"Email sent successfully\")\n",
    "\n",
    "    # check if response failed, if so refresh token\n",
    "    elif Zoho_auth_token == '1' or response['data']['errorCode'] == 'INVALID_OAUTHTOKEN':\n",
    "\n",
    "        print(\"Invalide key, sendinng to refresh\")\n",
    "\n",
    "        # get new auth token\n",
    "        Zoho_auth_token = refresh_access_token(ZOHO_REFRESH_TOKEN, ZOHO_CLIENT_ID, ZOHO_CLIENT_SECRET)\n",
    "\n",
    "        # update header with new auth token\n",
    "        headers = {\n",
    "            \"Authorization\": f\"Bearer {Zoho_auth_token}\",\n",
    "            \"Content-Type\": \"application/json\"\n",
    "        }   \n",
    "        \n",
    "        #try to send again\n",
    "        response = requests.post(ZOHO_URL, headers=headers, json=payload)\n",
    "        \n",
    "        # Check if request was successful\n",
    "        if response.status_code == 200:\n",
    "            print(\"Email sent successfully after token refreshed\")\n",
    "        else:\n",
    "            print(f\"Failed to send email. Status code: {response.status_code}\")\n",
    "            print(f\"Response: {response.text}\")\n",
    "    \n",
    "    else: \n",
    "        print(f\"Failed to send email. Status code: {response.status_code}\")\n",
    "        print(f\"Response: {response.text}\")\n",
    "   \n",
    "def post_cold_call_communication(notion_raw_id): \n",
    "    \n",
    "    #collect all information from notion DB\n",
    "    user_info_df = pull_notion_data(\"all\")\n",
    "  \n",
    "    #filter specific raw id for the last call\n",
    "    user_info_df = user_info_df[user_info_df['notion raw id'] == notion_raw_id]\n",
    "\n",
    "    #send process intormation if lead is interested\n",
    "    if user_info_df['Lead'].values[0] == 'Interested':\n",
    "\n",
    "        # Parse the datetime string\n",
    "        date_str = user_info_df['Next Follow Up Date'].values[0]\n",
    "        date_obj = datetime.fromisoformat(date_str)\n",
    "        formatted_date = date_obj.strftime(\"%b %d, %Y at %H:%M\")\n",
    "\n",
    "        print(f'sending post cold call process massage')\n",
    "        # format the mail\n",
    "        Mail_Subject = f\"Unclaimed Funds Identified for {user_info_df['home address'].values[0]} – Immediate Action Recommended\"\n",
    "\n",
    "        Mail_Content = f\"\"\"\n",
    "        <html>\n",
    "            <body>\n",
    "                <h2>Dear {user_info_df['customer name'].values[0]} {user_info_df['customer last name'].values[0]},</h2>\n",
    "                \n",
    "                <p>I hope this message finds you well. I am reaching out to follow up on our recent conversation regarding <strong>surplus funds</strong> identified in your name for the property at <strong>{user_info_df['home address'].values[0]}</strong>. At <strong>True Claim Services</strong>, we specialize in assisting individuals in recovering funds left unclaimed after a foreclosure.</p>\n",
    "\n",
    "                <p>Many individuals are unaware of their entitlement to these funds, and unfortunately, if left unclaimed, they may be forfeited to the government. Our role is to ensure you receive what is rightfully yours through a <strong>streamlined, professional, and risk-free process</strong>.</p>\n",
    "\n",
    "                <h3>Who We Are</h3>\n",
    "                <p><strong>True Claim Services</strong> is a trusted firm dedicated to helping individuals recover surplus funds efficiently and legally. With our expertise, we have successfully assisted numerous clients in reclaiming their rightful funds with <strong>no upfront costs or risks</strong>.</p>\n",
    "\n",
    "                <h3>Our Process</h3>\n",
    "                <ul>\n",
    "                    <li>✔ <strong>Verification:</strong> We confirm the availability and legitimacy of your unclaimed funds.</li>\n",
    "                    <li>✔ <strong>Legal Processing:</strong> Our team manages all required paperwork and filings.</li>\n",
    "                    <li>✔ <strong>Successful Recovery:</strong> Upon approval, the funds are released directly to you.</li>\n",
    "                </ul>\n",
    "\n",
    "                <p>🕒 <strong>Time-Sensitive Notice</strong>: Surplus fund claims are subject to strict deadlines. Taking action promptly is crucial to ensuring you receive your funds before they are forfeited.</p>\n",
    "\n",
    "                <h3>Why Choose True Claim Services?</h3>\n",
    "                <ul>\n",
    "                    <li>✔ <strong>No Upfront Fees</strong> – We operate on a contingency basis, meaning we only get paid when your claim is successfully processed.</li>\n",
    "                    <li>✔ <strong>Legal Expertise</strong> – Our team of professionals handles all necessary documentation and legal procedures on your behalf.</li>\n",
    "                    <li>✔ <strong>Efficient & Secure Process</strong> – We ensure a smooth and expedited claim process with minimal effort required on your part.</li>\n",
    "                </ul>\n",
    "\n",
    "                <h3>Next Step: Consultation with a Senior Surplus Funds Consultant</h3>\n",
    "                <p>Your follow-up call has been scheduled for: {formatted_date}</p>\n",
    "\n",
    "                <p>During this consultation, we will provide a <strong>detailed overview of your claim, explain the recovery process, and outline the required steps</strong> to ensure a successful outcome.</p>\n",
    "\n",
    "                <h4>📞 Contact Us:</h4>\n",
    "                <ul>\n",
    "                    <li>📞 <strong>Call or Text</strong>: +1 336-360-3640</li>\n",
    "                    <li>📧 <strong>Email</strong>: Info@TrueClaim.org</li>\n",
    "                    <li>🌐 <strong>Website</strong>: <a href=\"https://trueclaim.org/\">TrueClaim.org</a></li>\n",
    "                </ul>\n",
    "\n",
    "                <p>We look forward to assisting you in recovering the funds associated with <strong>{user_info_df['home address'].values[0]}</strong>. Please feel free to reach out with any questions.</p>\n",
    "\n",
    "                <p><strong>Best regards,</strong><br>\n",
    "                {Agent_name} Ronbison<br>\n",
    "                Junior Surplus Funds Consultant<br>\n",
    "                <strong>True Claim Services</strong></p>\n",
    "            </body>\n",
    "        </html>\n",
    "        \"\"\"\n",
    "        # send the mail \n",
    "        send_mail(Mail_Subject, Mail_Content, user_info_df)\n",
    "\n",
    "\n",
    "    elif user_info_df['Lead'].values[0] == 'Not interested':\n",
    "        #send not interested campeign                   \n",
    "        pass\n",
    "        \n",
    "    elif user_info_df['Lead'].values[0] == 'Did not answered':\n",
    "        #send Did not answered Mail                   \n",
    "        pass\n",
    "        \n",
    "def post_closer_call_communication(notion_raw_id): \n",
    "    \n",
    "    #collect all information from notion DB\n",
    "    user_info_df = pull_notion_data(\"all\")\n",
    "  \n",
    "    #filter specific raw id for the last call\n",
    "    user_info_df = user_info_df[user_info_df['notion raw id'] == notion_raw_id]\n",
    "\n",
    "    #send process intormation if lead is interested\n",
    "    if user_info_df['Lead'].values[0] == 'Documents sent for signiture':\n",
    "\n",
    "        print(f'sending documentation for signuture')\n",
    "        # format the mail\n",
    "        Mail_Subject = f\"True Claim Services documentation for {user_info_df['customer name'].values[0]} {user_info_df['customer last name'].values[0]}\"\n",
    "    \n",
    "        Mail_Content = f\"\"\"\n",
    "        <html>\n",
    "            <body>\n",
    "                <h1>Hello!</h1>\n",
    "                <p>please sign for money!!!!! :).</p>   \n",
    "                <p>love you :)</p>    \n",
    "    \n",
    "            </body>\n",
    "        </html>\n",
    "        \"\"\"\n",
    "        # send the mail \n",
    "        send_mail(Mail_Subject, Mail_Content, user_info_df)\n",
    "\n",
    "\n",
    "    elif user_info_df['Lead'].values[0] == 'Not interested':\n",
    "        #send not interested campeign                   \n",
    "        pass\n",
    "        \n",
    "def refresh_access_token(refresh_token, client_id, client_secret):\n",
    "    \"\"\"\n",
    "    Get a new access token using the refresh token\n",
    "    \"\"\"\n",
    "    token_url = \"https://accounts.zoho.com/oauth/v2/token\"\n",
    "    \n",
    "    data = {\n",
    "        \"refresh_token\": refresh_token,\n",
    "        \"client_id\": client_id,\n",
    "        \"client_secret\": client_secret,\n",
    "        \"grant_type\": \"refresh_token\"\n",
    "    }\n",
    "    \n",
    "    response = requests.post(token_url, data=data).json()\n",
    "    return response[\"access_token\"]\n",
    "\n",
    "def call_setup(row, Customer_phone_number, type=\"\"):     \n",
    "               \n",
    "    Customer_name = row['customer name']\n",
    "    Home_address = row['home address']\n",
    "    notion_raw_id = row['notion raw id']  \n",
    "    First_call_Summery  = row['cold call summary']    \n",
    "        \n",
    "                  \n",
    "    headers = {\n",
    "        'Authorization': BLEND_API_KEY,\n",
    "        \"Content-Type\": \"application/json\"\n",
    "    }\n",
    "        \n",
    "        \n",
    "    if type == \"cold\":             \n",
    "\n",
    "        data = {\n",
    "            \"phone_number\": Customer_phone_number,\n",
    "            \"from\": System_phone_number,\n",
    "            \"task\": \"\",\n",
    "            \"model\": \"base\",\n",
    "            \"language\": \"en-US\",\n",
    "            \"voice\": Cold_Agent_voice,\n",
    "            \"voice_settings\": {},\n",
    "            \"pathway_id\": COLD_CALL_SCRIPT,\n",
    "            \"local_dialing\": False,\n",
    "            \"max_duration\": \"12\",\n",
    "            \"answered_by_enabled\": False,\n",
    "            \"wait_for_greeting\": True,\n",
    "            \"noise_cancellation\": True,\n",
    "            \"ignore_button_press\": True,\n",
    "            \"record\": False,\n",
    "            \"amd\": False,\n",
    "            \"voicemail_action\": \"leave_message\",\n",
    "            \"voicemail_message\": f\"Hello {Customer_name}, this is {Agent_name} from True Claim Services. I'm reaching out to inform you that you might be eligible for surplus funds from a recent foreclosure. If you're interested in learning more and possibly recovering these funds, please call us back at 336 360 3640 or visit our website at Trueclaim.org. Thank you, and have a great day!\",\n",
    "            \"record\": True,\n",
    "            \"block_interruptions\": True,\n",
    "            \"interruption_threshold\": Interruption_Threshold_in_ms,\n",
    "            \"temperature\": LLM_temperature,\n",
    "            \"transfer_list\": {},\n",
    "            \"pronunciation_guide\": [],\n",
    "            \"request_data\": {\n",
    "            \"customer name\": Customer_name,\n",
    "            \"home address\": Home_address,\n",
    "            \"agent name\": Agent_name,\n",
    "            },\n",
    "            \"dynamic_data\": [],\n",
    "            \"analysis_schema\": {},\n",
    "            \"calendly\": {},\n",
    "            \"timezone\": \"America/New_York\"\n",
    "        }        \n",
    "        print(f\"Cold call setup is ready for {Customer_name}\")       \n",
    "            \n",
    "    elif type == \"closer\":             \n",
    "\n",
    "        data = {\n",
    "            \"phone_number\": Customer_phone_number,\n",
    "            \"from\": System_phone_number,\n",
    "            \"task\": \"\",\n",
    "            \"model\": \"base\",\n",
    "            \"language\": \"en-US\",\n",
    "            \"voice\": Closer_Agent_voice,\n",
    "            \"voice_settings\": {},\n",
    "            \"pathway_id\": CLOSER_CALL_SCRIPT,\n",
    "            \"local_dialing\": False,\n",
    "            \"max_duration\": \"12\",\n",
    "            \"answered_by_enabled\": False,\n",
    "            \"wait_for_greeting\": True,\n",
    "            \"noise_cancellation\": True,\n",
    "            \"ignore_button_press\": True,\n",
    "            \"record\": False,\n",
    "            \"amd\": False,\n",
    "            \"record\": True,\n",
    "            \"voicemail_action\": \"leave_message\",\n",
    "            \"voicemail_message\": f\"Hello {Customer_name}, this is {Specialist_name} from True Claim Services. I have tryied to reach you to go over your claim process. please call us back at 336 360 3640 or visit our website at Trueclaim.org. Thank you, and have a great day!\",\n",
    "            \"interruption_threshold\": Interruption_Threshold_in_ms,\n",
    "            \"voicemail_message\": \"test\",\n",
    "            \"temperature\": LLM_temperature,\n",
    "            \"transfer_list\": {},\n",
    "            \"pronunciation_guide\": [],\n",
    "            \"request_data\": {\n",
    "            \"customer name\": Customer_name,\n",
    "            \"home address\": Home_address,\n",
    "            \"agent name\": Agent_name,\n",
    "            \"specialist name\": Specialist_name,\n",
    "            \"first call summary\": First_call_Summery\n",
    "            },\n",
    "            \"dynamic_data\": [],\n",
    "            \"analysis_schema\": {},\n",
    "            \"calendly\": {},\n",
    "            \"timezone\": \"America/New_York\"\n",
    "        }          \n",
    "        print(f\"closer call setup is ready for {Customer_name} \")               \n",
    "   \n",
    "    else:          \n",
    "        data = {}        \n",
    "        print(\"unkknown setup, please try again\")    \n",
    "                    \n",
    "    return data, headers            \n",
    "            "
   ]
  },
  {
   "cell_type": "markdown",
   "metadata": {},
   "source": [
    "cold call Main loop"
   ]
  },
  {
   "cell_type": "code",
   "execution_count": 25,
   "metadata": {},
   "outputs": [
    {
     "name": "stderr",
     "output_type": "stream",
     "text": [
      "2025-02-19 19:04:32,035 - INFO - HTTP Request: POST https://api.notion.com/v1/databases/18316f1f61d680a2921bd08b8c62f895/query \"HTTP/1.1 200 OK\"\n",
      "C:\\Users\\DELL\\AppData\\Local\\Temp\\ipykernel_11508\\2036611002.py:42: FutureWarning: In a future version of pandas, parsing datetimes with mixed time zones will raise an error unless `utc=True`. Please specify `utc=True` to opt in to the new behaviour and silence this warning. To create a `Series` with mixed offsets and `object` dtype, please use `apply` and `datetime.datetime.strptime`\n",
      "  df['Next Follow Up Date'] = pd.to_datetime(df['Next Follow Up Date'])\n",
      "2025-02-19 19:04:32,057 - INFO - Successfully pulled 14 records from Notion\n",
      "2025-02-19 19:04:32,058 - INFO - Calling 2523272253\n"
     ]
    },
    {
     "name": "stdout",
     "output_type": "stream",
     "text": [
      "0     False\n",
      "1     False\n",
      "2     False\n",
      "3     False\n",
      "4     False\n",
      "5     False\n",
      "6     False\n",
      "7     False\n",
      "8     False\n",
      "9     False\n",
      "10    False\n",
      "11    False\n",
      "12    False\n",
      "13    False\n",
      "14    False\n",
      "15    False\n",
      "16    False\n",
      "17    False\n",
      "18    False\n",
      "19    False\n",
      "20    False\n",
      "21    False\n",
      "22    False\n",
      "23    False\n",
      "24    False\n",
      "25    False\n",
      "26    False\n",
      "27    False\n",
      "28    False\n",
      "29    False\n",
      "30    False\n",
      "31    False\n",
      "dtype: bool\n",
      "Successfully pulled 14 records from Notion\n",
      "Calling 2523272253\n",
      "Cold call setup is ready for TIMOTHY\n"
     ]
    },
    {
     "name": "stderr",
     "output_type": "stream",
     "text": [
      "2025-02-19 19:04:34,282 - INFO - {'status': 'success', 'message': 'Call successfully queued.', 'call_id': 'f1307f91-6a11-43d0-99cb-dd1b221771f3', 'batch_id': None}\n"
     ]
    },
    {
     "name": "stdout",
     "output_type": "stream",
     "text": [
      "{'status': 'success', 'message': 'Call successfully queued.', 'call_id': 'f1307f91-6a11-43d0-99cb-dd1b221771f3', 'batch_id': None}\n",
      "Call is still active\n",
      "Call is still active\n",
      "Call is still active\n",
      "Call is still active\n",
      "Call is still active\n",
      "Call is still active\n",
      "Call is still active\n",
      "Call is still active\n",
      "Call is still active\n",
      "Call is still active\n",
      "Call is still active\n",
      "Call is still active\n",
      "Call is still active\n",
      "Call is still active\n",
      "Call is still active\n",
      "Call is still active\n",
      "Call is still active\n",
      "Call is still active\n",
      "Call is still active\n",
      "Call is still active\n",
      "Call is still active\n",
      "Call is still active\n",
      "Call is still active\n",
      "Call is still active\n",
      "Call is still active\n",
      "Call is still active\n",
      "Call is still active\n",
      "Call is still active\n",
      "Call is still active\n"
     ]
    },
    {
     "name": "stderr",
     "output_type": "stream",
     "text": [
      "2025-02-19 19:07:05,170 - INFO - this was the pathway tags: []\n",
      "2025-02-19 19:07:05,172 - INFO - Calling  9108921202\n"
     ]
    },
    {
     "name": "stdout",
     "output_type": "stream",
     "text": [
      "[]\n",
      "Calling  9108921202\n",
      "Cold call setup is ready for TIMOTHY\n"
     ]
    },
    {
     "name": "stderr",
     "output_type": "stream",
     "text": [
      "2025-02-19 19:07:07,409 - INFO - {'status': 'success', 'message': 'Call successfully queued.', 'call_id': '6ec0cdf2-cfaf-4b95-b0e4-eef6b0906646', 'batch_id': None}\n"
     ]
    },
    {
     "name": "stdout",
     "output_type": "stream",
     "text": [
      "{'status': 'success', 'message': 'Call successfully queued.', 'call_id': '6ec0cdf2-cfaf-4b95-b0e4-eef6b0906646', 'batch_id': None}\n",
      "Call is still active\n",
      "Call is still active\n",
      "Call is still active\n",
      "Call is still active\n",
      "Call is still active\n",
      "Call is still active\n",
      "Call is still active\n",
      "Call is still active\n",
      "Call is still active\n",
      "Call is still active\n",
      "Call is still active\n",
      "Call is still active\n"
     ]
    },
    {
     "name": "stderr",
     "output_type": "stream",
     "text": [
      "2025-02-19 19:08:23,547 - INFO - this was the pathway tags: []\n"
     ]
    },
    {
     "name": "stdout",
     "output_type": "stream",
     "text": [
      "[]\n"
     ]
    },
    {
     "name": "stderr",
     "output_type": "stream",
     "text": [
      "2025-02-19 19:08:26,176 - INFO - HTTP Request: PATCH https://api.notion.com/v1/pages/19f16f1f-61d6-8162-bad6-e1d1af639bf4 \"HTTP/1.1 200 OK\"\n",
      "2025-02-19 19:08:26,178 - INFO - Update databsae for row: TIMOTHY according to call: 6ec0cdf2-cfaf-4b95-b0e4-eef6b0906646\n"
     ]
    },
    {
     "name": "stdout",
     "output_type": "stream",
     "text": [
      "Update databsae for row: TIMOTHY according to call: 6ec0cdf2-cfaf-4b95-b0e4-eef6b0906646\n"
     ]
    },
    {
     "name": "stderr",
     "output_type": "stream",
     "text": [
      "2025-02-19 19:08:27,082 - INFO - HTTP Request: POST https://api.notion.com/v1/databases/18316f1f61d680a2921bd08b8c62f895/query \"HTTP/1.1 200 OK\"\n",
      "C:\\Users\\DELL\\AppData\\Local\\Temp\\ipykernel_11508\\2036611002.py:42: FutureWarning: In a future version of pandas, parsing datetimes with mixed time zones will raise an error unless `utc=True`. Please specify `utc=True` to opt in to the new behaviour and silence this warning. To create a `Series` with mixed offsets and `object` dtype, please use `apply` and `datetime.datetime.strptime`\n",
      "  df['Next Follow Up Date'] = pd.to_datetime(df['Next Follow Up Date'])\n",
      "2025-02-19 19:08:27,111 - INFO - Update databsae for row: TIMOTHY according to call: 6ec0cdf2-cfaf-4b95-b0e4-eef6b0906646\n",
      "2025-02-19 19:08:27,111 - INFO - Calling 7042985863\n"
     ]
    },
    {
     "name": "stdout",
     "output_type": "stream",
     "text": [
      "0     False\n",
      "1     False\n",
      "2     False\n",
      "3     False\n",
      "4     False\n",
      "5     False\n",
      "6     False\n",
      "7     False\n",
      "8     False\n",
      "9     False\n",
      "10    False\n",
      "11    False\n",
      "12    False\n",
      "13    False\n",
      "14    False\n",
      "15    False\n",
      "16    False\n",
      "17     True\n",
      "18    False\n",
      "19    False\n",
      "20    False\n",
      "21    False\n",
      "22    False\n",
      "23    False\n",
      "24    False\n",
      "25    False\n",
      "26    False\n",
      "27    False\n",
      "28    False\n",
      "29    False\n",
      "30    False\n",
      "31    False\n",
      "dtype: bool\n",
      "Sending communcation to notion row: TIMOTHY\n",
      "Calling 7042985863\n",
      "Cold call setup is ready for JOHN A\n"
     ]
    },
    {
     "name": "stderr",
     "output_type": "stream",
     "text": [
      "2025-02-19 19:08:29,646 - INFO - {'status': 'success', 'message': 'Call successfully queued.', 'call_id': 'ddb1d13f-e02f-497d-84c5-8133998852ba', 'batch_id': None}\n"
     ]
    },
    {
     "name": "stdout",
     "output_type": "stream",
     "text": [
      "{'status': 'success', 'message': 'Call successfully queued.', 'call_id': 'ddb1d13f-e02f-497d-84c5-8133998852ba', 'batch_id': None}\n",
      "Call is still active\n",
      "Call is still active\n",
      "Call is still active\n",
      "Call is still active\n",
      "Call is still active\n",
      "Call is still active\n",
      "Call is still active\n",
      "Call is still active\n",
      "Call is still active\n",
      "Call is still active\n",
      "Call is still active\n",
      "Call is still active\n",
      "Call is still active\n"
     ]
    },
    {
     "name": "stderr",
     "output_type": "stream",
     "text": [
      "2025-02-19 19:09:43,600 - INFO - this was the pathway tags: []\n",
      "2025-02-19 19:09:43,602 - INFO - Calling  7049385494\n"
     ]
    },
    {
     "name": "stdout",
     "output_type": "stream",
     "text": [
      "[]\n",
      "Calling  7049385494\n",
      "Cold call setup is ready for JOHN A\n"
     ]
    },
    {
     "name": "stderr",
     "output_type": "stream",
     "text": [
      "2025-02-19 19:09:46,414 - INFO - {'status': 'success', 'message': 'Call successfully queued.', 'call_id': 'fd32a956-0849-4403-b5f2-cd7a22601043', 'batch_id': None}\n"
     ]
    },
    {
     "name": "stdout",
     "output_type": "stream",
     "text": [
      "{'status': 'success', 'message': 'Call successfully queued.', 'call_id': 'fd32a956-0849-4403-b5f2-cd7a22601043', 'batch_id': None}\n",
      "Call is still active\n",
      "Call is still active\n",
      "Call is still active\n",
      "Call is still active\n"
     ]
    },
    {
     "name": "stderr",
     "output_type": "stream",
     "text": [
      "2025-02-19 19:10:18,191 - INFO - this was the pathway tags: []\n"
     ]
    },
    {
     "name": "stdout",
     "output_type": "stream",
     "text": [
      "[]\n"
     ]
    },
    {
     "name": "stderr",
     "output_type": "stream",
     "text": [
      "2025-02-19 19:10:20,822 - INFO - HTTP Request: PATCH https://api.notion.com/v1/pages/19f16f1f-61d6-8151-bdfb-e103c008a61a \"HTTP/1.1 200 OK\"\n",
      "2025-02-19 19:10:20,828 - INFO - Update databsae for row: JOHN A according to call: fd32a956-0849-4403-b5f2-cd7a22601043\n"
     ]
    },
    {
     "name": "stdout",
     "output_type": "stream",
     "text": [
      "Update databsae for row: JOHN A according to call: fd32a956-0849-4403-b5f2-cd7a22601043\n"
     ]
    },
    {
     "name": "stderr",
     "output_type": "stream",
     "text": [
      "2025-02-19 19:10:21,357 - INFO - HTTP Request: POST https://api.notion.com/v1/databases/18316f1f61d680a2921bd08b8c62f895/query \"HTTP/1.1 200 OK\"\n",
      "C:\\Users\\DELL\\AppData\\Local\\Temp\\ipykernel_11508\\2036611002.py:42: FutureWarning: In a future version of pandas, parsing datetimes with mixed time zones will raise an error unless `utc=True`. Please specify `utc=True` to opt in to the new behaviour and silence this warning. To create a `Series` with mixed offsets and `object` dtype, please use `apply` and `datetime.datetime.strptime`\n",
      "  df['Next Follow Up Date'] = pd.to_datetime(df['Next Follow Up Date'])\n",
      "2025-02-19 19:10:21,383 - INFO - Update databsae for row: JOHN A according to call: fd32a956-0849-4403-b5f2-cd7a22601043\n",
      "2025-02-19 19:10:21,383 - INFO - Calling 2526654821\n"
     ]
    },
    {
     "name": "stdout",
     "output_type": "stream",
     "text": [
      "0     False\n",
      "1     False\n",
      "2     False\n",
      "3     False\n",
      "4     False\n",
      "5     False\n",
      "6     False\n",
      "7     False\n",
      "8     False\n",
      "9     False\n",
      "10    False\n",
      "11    False\n",
      "12    False\n",
      "13    False\n",
      "14    False\n",
      "15    False\n",
      "16    False\n",
      "17     True\n",
      "18     True\n",
      "19    False\n",
      "20    False\n",
      "21    False\n",
      "22    False\n",
      "23    False\n",
      "24    False\n",
      "25    False\n",
      "26    False\n",
      "27    False\n",
      "28    False\n",
      "29    False\n",
      "30    False\n",
      "31    False\n",
      "dtype: bool\n",
      "Sending communcation to notion row: JOHN A\n",
      "Calling 2526654821\n",
      "Cold call setup is ready for ERDMAN\n"
     ]
    },
    {
     "name": "stderr",
     "output_type": "stream",
     "text": [
      "2025-02-19 19:10:24,631 - INFO - {'status': 'success', 'message': 'Call successfully queued.', 'call_id': 'a4686c81-b5db-4986-8fd7-ae9063416ed2', 'batch_id': None}\n"
     ]
    },
    {
     "name": "stdout",
     "output_type": "stream",
     "text": [
      "{'status': 'success', 'message': 'Call successfully queued.', 'call_id': 'a4686c81-b5db-4986-8fd7-ae9063416ed2', 'batch_id': None}\n",
      "Call is still active\n",
      "Call is still active\n",
      "Call is still active\n",
      "Call is still active\n",
      "Call is still active\n",
      "Call is still active\n",
      "Call is still active\n",
      "Call is still active\n",
      "Call is still active\n",
      "Call is still active\n",
      "Call is still active\n",
      "Call is still active\n",
      "Call is still active\n"
     ]
    },
    {
     "name": "stderr",
     "output_type": "stream",
     "text": [
      "2025-02-19 19:11:37,184 - INFO - this was the pathway tags: []\n",
      "2025-02-19 19:11:37,184 - INFO - Calling  2524473001\n"
     ]
    },
    {
     "name": "stdout",
     "output_type": "stream",
     "text": [
      "[]\n",
      "Calling  2524473001\n",
      "Cold call setup is ready for ERDMAN\n"
     ]
    },
    {
     "name": "stderr",
     "output_type": "stream",
     "text": [
      "2025-02-19 19:11:39,975 - INFO - {'status': 'success', 'message': 'Call successfully queued.', 'call_id': 'baac5143-f784-4fe6-8080-c68170da9e7f', 'batch_id': None}\n"
     ]
    },
    {
     "name": "stdout",
     "output_type": "stream",
     "text": [
      "{'status': 'success', 'message': 'Call successfully queued.', 'call_id': 'baac5143-f784-4fe6-8080-c68170da9e7f', 'batch_id': None}\n",
      "Call is still active\n",
      "Call is still active\n",
      "Call is still active\n",
      "Call is still active\n",
      "Call is still active\n",
      "Call is still active\n",
      "Call is still active\n",
      "Call is still active\n",
      "Call is still active\n",
      "Call is still active\n",
      "Call is still active\n",
      "Call is still active\n",
      "Call is still active\n",
      "Call is still active\n"
     ]
    },
    {
     "name": "stderr",
     "output_type": "stream",
     "text": [
      "2025-02-19 19:12:57,672 - INFO - this was the pathway tags: []\n"
     ]
    },
    {
     "name": "stdout",
     "output_type": "stream",
     "text": [
      "[]\n"
     ]
    },
    {
     "name": "stderr",
     "output_type": "stream",
     "text": [
      "2025-02-19 19:13:00,422 - INFO - HTTP Request: PATCH https://api.notion.com/v1/pages/19f16f1f-61d6-815a-a081-e2167ad4c3b9 \"HTTP/1.1 200 OK\"\n",
      "2025-02-19 19:13:00,428 - INFO - Update databsae for row: ERDMAN according to call: baac5143-f784-4fe6-8080-c68170da9e7f\n"
     ]
    },
    {
     "name": "stdout",
     "output_type": "stream",
     "text": [
      "Update databsae for row: ERDMAN according to call: baac5143-f784-4fe6-8080-c68170da9e7f\n"
     ]
    },
    {
     "name": "stderr",
     "output_type": "stream",
     "text": [
      "2025-02-19 19:13:00,925 - INFO - HTTP Request: POST https://api.notion.com/v1/databases/18316f1f61d680a2921bd08b8c62f895/query \"HTTP/1.1 200 OK\"\n",
      "C:\\Users\\DELL\\AppData\\Local\\Temp\\ipykernel_11508\\2036611002.py:42: FutureWarning: In a future version of pandas, parsing datetimes with mixed time zones will raise an error unless `utc=True`. Please specify `utc=True` to opt in to the new behaviour and silence this warning. To create a `Series` with mixed offsets and `object` dtype, please use `apply` and `datetime.datetime.strptime`\n",
      "  df['Next Follow Up Date'] = pd.to_datetime(df['Next Follow Up Date'])\n",
      "2025-02-19 19:13:00,955 - INFO - Update databsae for row: ERDMAN according to call: baac5143-f784-4fe6-8080-c68170da9e7f\n",
      "2025-02-19 19:13:00,955 - INFO - Calling 2529334883\n"
     ]
    },
    {
     "name": "stdout",
     "output_type": "stream",
     "text": [
      "0     False\n",
      "1     False\n",
      "2     False\n",
      "3     False\n",
      "4     False\n",
      "5     False\n",
      "6     False\n",
      "7     False\n",
      "8     False\n",
      "9     False\n",
      "10    False\n",
      "11    False\n",
      "12    False\n",
      "13    False\n",
      "14    False\n",
      "15    False\n",
      "16    False\n",
      "17     True\n",
      "18     True\n",
      "19     True\n",
      "20    False\n",
      "21    False\n",
      "22    False\n",
      "23    False\n",
      "24    False\n",
      "25    False\n",
      "26    False\n",
      "27    False\n",
      "28    False\n",
      "29    False\n",
      "30    False\n",
      "31    False\n",
      "dtype: bool\n",
      "Sending communcation to notion row: ERDMAN\n",
      "Calling 2529334883\n",
      "Cold call setup is ready for ELIZABETH\n"
     ]
    },
    {
     "name": "stderr",
     "output_type": "stream",
     "text": [
      "2025-02-19 19:13:03,388 - INFO - {'status': 'success', 'message': 'Call successfully queued.', 'call_id': '523928f5-6ae4-4aed-a5b9-9bc30e240843', 'batch_id': None}\n"
     ]
    },
    {
     "name": "stdout",
     "output_type": "stream",
     "text": [
      "{'status': 'success', 'message': 'Call successfully queued.', 'call_id': '523928f5-6ae4-4aed-a5b9-9bc30e240843', 'batch_id': None}\n",
      "Call is still active\n",
      "Call is still active\n",
      "Call is still active\n",
      "Call is still active\n",
      "Call is still active\n",
      "Call is still active\n",
      "Call is still active\n",
      "Call is still active\n",
      "Call is still active\n",
      "Call is still active\n",
      "Call is still active\n",
      "Call is still active\n",
      "Call is still active\n"
     ]
    },
    {
     "name": "stderr",
     "output_type": "stream",
     "text": [
      "2025-02-19 19:14:16,991 - INFO - this was the pathway tags: []\n",
      "2025-02-19 19:14:16,992 - INFO - Calling  2525616331\n"
     ]
    },
    {
     "name": "stdout",
     "output_type": "stream",
     "text": [
      "[]\n",
      "Calling  2525616331\n",
      "Cold call setup is ready for ELIZABETH\n"
     ]
    },
    {
     "name": "stderr",
     "output_type": "stream",
     "text": [
      "2025-02-19 19:14:20,172 - INFO - {'status': 'success', 'message': 'Call successfully queued.', 'call_id': '7d513d4a-ee98-4aa2-ab14-18b1cffe1c2a', 'batch_id': None}\n"
     ]
    },
    {
     "name": "stdout",
     "output_type": "stream",
     "text": [
      "{'status': 'success', 'message': 'Call successfully queued.', 'call_id': '7d513d4a-ee98-4aa2-ab14-18b1cffe1c2a', 'batch_id': None}\n",
      "Call is still active\n",
      "Call is still active\n",
      "Call is still active\n",
      "Call is still active\n",
      "Call is still active\n",
      "Call is still active\n",
      "Call is still active\n",
      "Call is still active\n",
      "Call is still active\n",
      "Call is still active\n",
      "Call is still active\n",
      "Call is still active\n"
     ]
    },
    {
     "name": "stderr",
     "output_type": "stream",
     "text": [
      "2025-02-19 19:15:28,125 - INFO - this was the pathway tags: []\n",
      "2025-02-19 19:15:28,127 - INFO - Calling  2522686543\n"
     ]
    },
    {
     "name": "stdout",
     "output_type": "stream",
     "text": [
      "[]\n",
      "Calling  2522686543\n",
      "Cold call setup is ready for ELIZABETH\n"
     ]
    },
    {
     "name": "stderr",
     "output_type": "stream",
     "text": [
      "2025-02-19 19:15:30,722 - INFO - {'status': 'success', 'message': 'Call successfully queued.', 'call_id': '01a5cff9-ec6d-40f5-ae8f-8952a988daf3', 'batch_id': None}\n"
     ]
    },
    {
     "name": "stdout",
     "output_type": "stream",
     "text": [
      "{'status': 'success', 'message': 'Call successfully queued.', 'call_id': '01a5cff9-ec6d-40f5-ae8f-8952a988daf3', 'batch_id': None}\n",
      "Call is still active\n",
      "Call is still active\n",
      "Call is still active\n",
      "Call is still active\n",
      "Call is still active\n",
      "Call is still active\n",
      "Call is still active\n",
      "Call is still active\n",
      "Call is still active\n",
      "Call is still active\n",
      "Call is still active\n",
      "Call is still active\n",
      "Call is still active\n"
     ]
    },
    {
     "name": "stderr",
     "output_type": "stream",
     "text": [
      "2025-02-19 19:16:48,255 - INFO - this was the pathway tags: []\n",
      "2025-02-19 19:16:48,255 - INFO - Calling  2525220494\n"
     ]
    },
    {
     "name": "stdout",
     "output_type": "stream",
     "text": [
      "[]\n",
      "Calling  2525220494\n",
      "Cold call setup is ready for ELIZABETH\n"
     ]
    },
    {
     "name": "stderr",
     "output_type": "stream",
     "text": [
      "2025-02-19 19:16:58,493 - INFO - {'status': 'success', 'message': 'Call successfully queued.', 'call_id': '00ee76a7-2013-48de-875a-87864ec04062', 'batch_id': None}\n"
     ]
    },
    {
     "name": "stdout",
     "output_type": "stream",
     "text": [
      "{'status': 'success', 'message': 'Call successfully queued.', 'call_id': '00ee76a7-2013-48de-875a-87864ec04062', 'batch_id': None}\n",
      "Call is still active\n",
      "Call is still active\n",
      "Call is still active\n",
      "Call is still active\n",
      "Call is still active\n",
      "Call is still active\n",
      "Call is still active\n",
      "Call is still active\n",
      "Call is still active\n",
      "Call is still active\n",
      "Call is still active\n",
      "Call is still active\n",
      "Call is still active\n"
     ]
    },
    {
     "name": "stderr",
     "output_type": "stream",
     "text": [
      "2025-02-19 19:18:15,304 - INFO - this was the pathway tags: []\n"
     ]
    },
    {
     "name": "stdout",
     "output_type": "stream",
     "text": [
      "[]\n"
     ]
    },
    {
     "name": "stderr",
     "output_type": "stream",
     "text": [
      "2025-02-19 19:18:17,431 - INFO - HTTP Request: PATCH https://api.notion.com/v1/pages/19f16f1f-61d6-8187-a08b-eeb0e5039493 \"HTTP/1.1 200 OK\"\n",
      "2025-02-19 19:18:17,433 - INFO - Update databsae for row: ELIZABETH according to call: 00ee76a7-2013-48de-875a-87864ec04062\n"
     ]
    },
    {
     "name": "stdout",
     "output_type": "stream",
     "text": [
      "Update databsae for row: ELIZABETH according to call: 00ee76a7-2013-48de-875a-87864ec04062\n"
     ]
    },
    {
     "name": "stderr",
     "output_type": "stream",
     "text": [
      "2025-02-19 19:18:18,051 - INFO - HTTP Request: POST https://api.notion.com/v1/databases/18316f1f61d680a2921bd08b8c62f895/query \"HTTP/1.1 200 OK\"\n",
      "C:\\Users\\DELL\\AppData\\Local\\Temp\\ipykernel_11508\\2036611002.py:42: FutureWarning: In a future version of pandas, parsing datetimes with mixed time zones will raise an error unless `utc=True`. Please specify `utc=True` to opt in to the new behaviour and silence this warning. To create a `Series` with mixed offsets and `object` dtype, please use `apply` and `datetime.datetime.strptime`\n",
      "  df['Next Follow Up Date'] = pd.to_datetime(df['Next Follow Up Date'])\n",
      "2025-02-19 19:18:18,083 - INFO - Update databsae for row: ELIZABETH according to call: 00ee76a7-2013-48de-875a-87864ec04062\n",
      "2025-02-19 19:18:18,083 - INFO - Calling 9104439399\n"
     ]
    },
    {
     "name": "stdout",
     "output_type": "stream",
     "text": [
      "0     False\n",
      "1     False\n",
      "2     False\n",
      "3     False\n",
      "4     False\n",
      "5     False\n",
      "6     False\n",
      "7     False\n",
      "8     False\n",
      "9     False\n",
      "10    False\n",
      "11    False\n",
      "12    False\n",
      "13    False\n",
      "14    False\n",
      "15    False\n",
      "16    False\n",
      "17     True\n",
      "18     True\n",
      "19     True\n",
      "20     True\n",
      "21    False\n",
      "22    False\n",
      "23    False\n",
      "24    False\n",
      "25    False\n",
      "26    False\n",
      "27    False\n",
      "28    False\n",
      "29    False\n",
      "30    False\n",
      "31    False\n",
      "dtype: bool\n",
      "Sending communcation to notion row: ELIZABETH\n",
      "Calling 9104439399\n",
      "Cold call setup is ready for SHAPIRO\n"
     ]
    },
    {
     "name": "stderr",
     "output_type": "stream",
     "text": [
      "2025-02-19 19:18:20,561 - INFO - {'status': 'success', 'message': 'Call successfully queued.', 'call_id': '3be999ad-a9e6-4275-9823-a97e79fe7e3a', 'batch_id': None}\n"
     ]
    },
    {
     "name": "stdout",
     "output_type": "stream",
     "text": [
      "{'status': 'success', 'message': 'Call successfully queued.', 'call_id': '3be999ad-a9e6-4275-9823-a97e79fe7e3a', 'batch_id': None}\n",
      "Call is still active\n",
      "Call is still active\n",
      "Call is still active\n",
      "Call is still active\n",
      "Call is still active\n",
      "Call is still active\n",
      "Call is still active\n",
      "Call is still active\n",
      "Call is still active\n",
      "Call is still active\n",
      "Call is still active\n",
      "Call is still active\n",
      "Call is still active\n"
     ]
    },
    {
     "name": "stderr",
     "output_type": "stream",
     "text": [
      "2025-02-19 19:19:35,266 - INFO - this was the pathway tags: []\n",
      "2025-02-19 19:19:35,267 - INFO - Calling  9107890757\n"
     ]
    },
    {
     "name": "stdout",
     "output_type": "stream",
     "text": [
      "[]\n",
      "Calling  9107890757\n",
      "Cold call setup is ready for SHAPIRO\n"
     ]
    },
    {
     "name": "stderr",
     "output_type": "stream",
     "text": [
      "2025-02-19 19:19:38,102 - INFO - {'status': 'success', 'message': 'Call successfully queued.', 'call_id': 'b3652ba5-ce23-4806-aa31-1b2ca4f65b39', 'batch_id': None}\n"
     ]
    },
    {
     "name": "stdout",
     "output_type": "stream",
     "text": [
      "{'status': 'success', 'message': 'Call successfully queued.', 'call_id': 'b3652ba5-ce23-4806-aa31-1b2ca4f65b39', 'batch_id': None}\n",
      "Call is still active\n",
      "Call is still active\n",
      "Call is still active\n",
      "Call is still active\n",
      "Call is still active\n",
      "Call is still active\n",
      "Call is still active\n",
      "Call is still active\n",
      "Call is still active\n",
      "Call is still active\n",
      "Call is still active\n",
      "Call is still active\n",
      "Call is still active\n"
     ]
    },
    {
     "name": "stderr",
     "output_type": "stream",
     "text": [
      "2025-02-19 19:20:54,151 - INFO - this was the pathway tags: []\n",
      "2025-02-19 19:20:54,153 - INFO - Calling  9105753330\n"
     ]
    },
    {
     "name": "stdout",
     "output_type": "stream",
     "text": [
      "[]\n",
      "Calling  9105753330\n",
      "Cold call setup is ready for SHAPIRO\n"
     ]
    },
    {
     "name": "stderr",
     "output_type": "stream",
     "text": [
      "2025-02-19 19:20:57,978 - INFO - {'status': 'success', 'message': 'Call successfully queued.', 'call_id': '4ca9d32c-4c2b-41a3-9d6e-ad91fb34e409', 'batch_id': None}\n"
     ]
    },
    {
     "name": "stdout",
     "output_type": "stream",
     "text": [
      "{'status': 'success', 'message': 'Call successfully queued.', 'call_id': '4ca9d32c-4c2b-41a3-9d6e-ad91fb34e409', 'batch_id': None}\n",
      "Call is still active\n",
      "Call is still active\n",
      "Call is still active\n",
      "Call is still active\n",
      "Call is still active\n",
      "Call is still active\n",
      "Call is still active\n",
      "Call is still active\n",
      "Call is still active\n",
      "Call is still active\n",
      "Call is still active\n",
      "Call is still active\n",
      "Call is still active\n"
     ]
    },
    {
     "name": "stderr",
     "output_type": "stream",
     "text": [
      "2025-02-19 19:22:21,474 - INFO - this was the pathway tags: []\n",
      "2025-02-19 19:22:21,475 - INFO - Calling  9109990000\n"
     ]
    },
    {
     "name": "stdout",
     "output_type": "stream",
     "text": [
      "[]\n",
      "Calling  9109990000\n",
      "Cold call setup is ready for SHAPIRO\n"
     ]
    },
    {
     "name": "stderr",
     "output_type": "stream",
     "text": [
      "2025-02-19 19:22:23,722 - INFO - {'status': 'success', 'message': 'Call successfully queued.', 'call_id': 'bf76bf20-0b66-41de-9ef4-4df6fa11f2f6', 'batch_id': None}\n"
     ]
    },
    {
     "name": "stdout",
     "output_type": "stream",
     "text": [
      "{'status': 'success', 'message': 'Call successfully queued.', 'call_id': 'bf76bf20-0b66-41de-9ef4-4df6fa11f2f6', 'batch_id': None}\n",
      "Call is still active\n",
      "Call is still active\n",
      "Call is still active\n",
      "Call is still active\n",
      "Call is still active\n",
      "Call is still active\n",
      "Call is still active\n",
      "Call is still active\n",
      "Call is still active\n"
     ]
    },
    {
     "name": "stderr",
     "output_type": "stream",
     "text": [
      "2025-02-19 19:23:27,651 - INFO - this was the pathway tags: []\n"
     ]
    },
    {
     "name": "stdout",
     "output_type": "stream",
     "text": [
      "[]\n"
     ]
    },
    {
     "name": "stderr",
     "output_type": "stream",
     "text": [
      "2025-02-19 19:23:29,411 - INFO - HTTP Request: PATCH https://api.notion.com/v1/pages/19f16f1f-61d6-81c0-b0b9-f9de889104c3 \"HTTP/1.1 200 OK\"\n",
      "2025-02-19 19:23:29,418 - INFO - Update databsae for row: SHAPIRO according to call: bf76bf20-0b66-41de-9ef4-4df6fa11f2f6\n"
     ]
    },
    {
     "name": "stdout",
     "output_type": "stream",
     "text": [
      "Update databsae for row: SHAPIRO according to call: bf76bf20-0b66-41de-9ef4-4df6fa11f2f6\n"
     ]
    },
    {
     "name": "stderr",
     "output_type": "stream",
     "text": [
      "2025-02-19 19:23:30,011 - INFO - HTTP Request: POST https://api.notion.com/v1/databases/18316f1f61d680a2921bd08b8c62f895/query \"HTTP/1.1 200 OK\"\n",
      "C:\\Users\\DELL\\AppData\\Local\\Temp\\ipykernel_11508\\2036611002.py:42: FutureWarning: In a future version of pandas, parsing datetimes with mixed time zones will raise an error unless `utc=True`. Please specify `utc=True` to opt in to the new behaviour and silence this warning. To create a `Series` with mixed offsets and `object` dtype, please use `apply` and `datetime.datetime.strptime`\n",
      "  df['Next Follow Up Date'] = pd.to_datetime(df['Next Follow Up Date'])\n",
      "2025-02-19 19:23:30,064 - INFO - Update databsae for row: SHAPIRO according to call: bf76bf20-0b66-41de-9ef4-4df6fa11f2f6\n",
      "2025-02-19 19:23:30,068 - INFO - Calling 7049137053\n"
     ]
    },
    {
     "name": "stdout",
     "output_type": "stream",
     "text": [
      "0     False\n",
      "1     False\n",
      "2     False\n",
      "3     False\n",
      "4     False\n",
      "5     False\n",
      "6     False\n",
      "7     False\n",
      "8     False\n",
      "9     False\n",
      "10    False\n",
      "11    False\n",
      "12    False\n",
      "13    False\n",
      "14    False\n",
      "15    False\n",
      "16    False\n",
      "17     True\n",
      "18     True\n",
      "19     True\n",
      "20     True\n",
      "21     True\n",
      "22    False\n",
      "23    False\n",
      "24    False\n",
      "25    False\n",
      "26    False\n",
      "27    False\n",
      "28    False\n",
      "29    False\n",
      "30    False\n",
      "31    False\n",
      "dtype: bool\n",
      "Sending communcation to notion row: SHAPIRO\n",
      "Calling 7049137053\n",
      "Cold call setup is ready for BOBBY\n"
     ]
    },
    {
     "name": "stderr",
     "output_type": "stream",
     "text": [
      "2025-02-19 19:23:32,725 - INFO - {'status': 'success', 'message': 'Call successfully queued.', 'call_id': 'f3299200-69ec-4fef-86d1-0ea1369030d2', 'batch_id': None}\n"
     ]
    },
    {
     "name": "stdout",
     "output_type": "stream",
     "text": [
      "{'status': 'success', 'message': 'Call successfully queued.', 'call_id': 'f3299200-69ec-4fef-86d1-0ea1369030d2', 'batch_id': None}\n",
      "Call is still active\n",
      "Call is still active\n",
      "Call is still active\n",
      "Call is still active\n",
      "Call is still active\n",
      "Call is still active\n",
      "Call is still active\n",
      "Call is still active\n",
      "Call is still active\n",
      "Call is still active\n",
      "Call is still active\n",
      "Call is still active\n"
     ]
    },
    {
     "name": "stderr",
     "output_type": "stream",
     "text": [
      "2025-02-19 19:24:44,663 - INFO - this was the pathway tags: []\n",
      "2025-02-19 19:24:44,664 - INFO - Calling  7049138586\n"
     ]
    },
    {
     "name": "stdout",
     "output_type": "stream",
     "text": [
      "[]\n",
      "Calling  7049138586\n",
      "Cold call setup is ready for BOBBY\n"
     ]
    },
    {
     "name": "stderr",
     "output_type": "stream",
     "text": [
      "2025-02-19 19:24:47,455 - INFO - {'status': 'success', 'message': 'Call successfully queued.', 'call_id': '75f958b4-7b97-4611-a9db-1ef352fcc317', 'batch_id': None}\n"
     ]
    },
    {
     "name": "stdout",
     "output_type": "stream",
     "text": [
      "{'status': 'success', 'message': 'Call successfully queued.', 'call_id': '75f958b4-7b97-4611-a9db-1ef352fcc317', 'batch_id': None}\n",
      "Call is still active\n",
      "Call is still active\n",
      "Call is still active\n",
      "Call is still active\n",
      "Call is still active\n",
      "Call is still active\n",
      "Call is still active\n",
      "Call is still active\n",
      "Call is still active\n",
      "Call is still active\n",
      "Call is still active\n",
      "Call is still active\n",
      "Call is still active\n",
      "Call is still active\n"
     ]
    },
    {
     "name": "stderr",
     "output_type": "stream",
     "text": [
      "2025-02-19 19:26:05,794 - INFO - this was the pathway tags: []\n",
      "2025-02-19 19:26:05,795 - INFO - Calling  7042364584\n"
     ]
    },
    {
     "name": "stdout",
     "output_type": "stream",
     "text": [
      "[]\n",
      "Calling  7042364584\n",
      "Cold call setup is ready for BOBBY\n"
     ]
    },
    {
     "name": "stderr",
     "output_type": "stream",
     "text": [
      "2025-02-19 19:26:08,505 - INFO - {'status': 'success', 'message': 'Call successfully queued.', 'call_id': '860953cf-fd2a-498d-bafd-b24bc5ce4547', 'batch_id': None}\n"
     ]
    },
    {
     "name": "stdout",
     "output_type": "stream",
     "text": [
      "{'status': 'success', 'message': 'Call successfully queued.', 'call_id': '860953cf-fd2a-498d-bafd-b24bc5ce4547', 'batch_id': None}\n",
      "Call is still active\n",
      "Call is still active\n",
      "Call is still active\n",
      "Call is still active\n",
      "Call is still active\n",
      "Call is still active\n",
      "Call is still active\n",
      "Call is still active\n",
      "Call is still active\n",
      "Call is still active\n",
      "Call is still active\n",
      "Call is still active\n",
      "Call is still active\n",
      "Call is still active\n"
     ]
    },
    {
     "name": "stderr",
     "output_type": "stream",
     "text": [
      "2025-02-19 19:27:27,489 - INFO - this was the pathway tags: []\n",
      "2025-02-19 19:27:27,491 - INFO - Calling  8283740288\n"
     ]
    },
    {
     "name": "stdout",
     "output_type": "stream",
     "text": [
      "[]\n",
      "Calling  8283740288\n",
      "Cold call setup is ready for BOBBY\n"
     ]
    },
    {
     "name": "stderr",
     "output_type": "stream",
     "text": [
      "2025-02-19 19:27:29,591 - INFO - {'status': 'success', 'message': 'Call successfully queued.', 'call_id': '3a6ce3e7-61ad-4cf8-9b84-f86876f8ce9b', 'batch_id': None}\n"
     ]
    },
    {
     "name": "stdout",
     "output_type": "stream",
     "text": [
      "{'status': 'success', 'message': 'Call successfully queued.', 'call_id': '3a6ce3e7-61ad-4cf8-9b84-f86876f8ce9b', 'batch_id': None}\n",
      "Call is still active\n",
      "Call is still active\n",
      "Call is still active\n",
      "Call is still active\n",
      "Call is still active\n",
      "Call is still active\n",
      "Call is still active\n",
      "Call is still active\n",
      "Call is still active\n",
      "Call is still active\n",
      "Call is still active\n",
      "Call is still active\n",
      "Call is still active\n",
      "Call is still active\n"
     ]
    },
    {
     "name": "stderr",
     "output_type": "stream",
     "text": [
      "2025-02-19 19:28:48,298 - INFO - this was the pathway tags: []\n"
     ]
    },
    {
     "name": "stdout",
     "output_type": "stream",
     "text": [
      "[]\n"
     ]
    },
    {
     "name": "stderr",
     "output_type": "stream",
     "text": [
      "2025-02-19 19:28:50,445 - INFO - HTTP Request: PATCH https://api.notion.com/v1/pages/19f16f1f-61d6-8167-a7e4-fbab0e909fdc \"HTTP/1.1 200 OK\"\n",
      "2025-02-19 19:28:50,453 - INFO - Update databsae for row: BOBBY according to call: 3a6ce3e7-61ad-4cf8-9b84-f86876f8ce9b\n"
     ]
    },
    {
     "name": "stdout",
     "output_type": "stream",
     "text": [
      "Update databsae for row: BOBBY according to call: 3a6ce3e7-61ad-4cf8-9b84-f86876f8ce9b\n"
     ]
    },
    {
     "name": "stderr",
     "output_type": "stream",
     "text": [
      "2025-02-19 19:28:51,583 - INFO - HTTP Request: POST https://api.notion.com/v1/databases/18316f1f61d680a2921bd08b8c62f895/query \"HTTP/1.1 200 OK\"\n",
      "C:\\Users\\DELL\\AppData\\Local\\Temp\\ipykernel_11508\\2036611002.py:42: FutureWarning: In a future version of pandas, parsing datetimes with mixed time zones will raise an error unless `utc=True`. Please specify `utc=True` to opt in to the new behaviour and silence this warning. To create a `Series` with mixed offsets and `object` dtype, please use `apply` and `datetime.datetime.strptime`\n",
      "  df['Next Follow Up Date'] = pd.to_datetime(df['Next Follow Up Date'])\n",
      "2025-02-19 19:28:51,614 - INFO - Update databsae for row: BOBBY according to call: 3a6ce3e7-61ad-4cf8-9b84-f86876f8ce9b\n",
      "2025-02-19 19:28:51,617 - INFO - Calling 2524145950\n"
     ]
    },
    {
     "name": "stdout",
     "output_type": "stream",
     "text": [
      "0     False\n",
      "1     False\n",
      "2     False\n",
      "3     False\n",
      "4     False\n",
      "5     False\n",
      "6     False\n",
      "7     False\n",
      "8     False\n",
      "9     False\n",
      "10    False\n",
      "11    False\n",
      "12    False\n",
      "13    False\n",
      "14    False\n",
      "15    False\n",
      "16    False\n",
      "17     True\n",
      "18     True\n",
      "19     True\n",
      "20     True\n",
      "21     True\n",
      "22     True\n",
      "23    False\n",
      "24    False\n",
      "25    False\n",
      "26    False\n",
      "27    False\n",
      "28    False\n",
      "29    False\n",
      "30    False\n",
      "31    False\n",
      "dtype: bool\n",
      "Sending communcation to notion row: BOBBY\n",
      "Calling 2524145950\n",
      "Cold call setup is ready for VENSON G\n"
     ]
    },
    {
     "name": "stderr",
     "output_type": "stream",
     "text": [
      "2025-02-19 19:28:54,445 - INFO - {'status': 'success', 'message': 'Call successfully queued.', 'call_id': '1847264e-24a1-4f44-8038-f15c5a0c2247', 'batch_id': None}\n"
     ]
    },
    {
     "name": "stdout",
     "output_type": "stream",
     "text": [
      "{'status': 'success', 'message': 'Call successfully queued.', 'call_id': '1847264e-24a1-4f44-8038-f15c5a0c2247', 'batch_id': None}\n",
      "Call is still active\n",
      "Call is still active\n",
      "Call is still active\n",
      "Call is still active\n",
      "Call is still active\n",
      "Call is still active\n",
      "Call is still active\n",
      "Call is still active\n",
      "Call is still active\n",
      "Call is still active\n",
      "Call is still active\n",
      "Call is still active\n",
      "Call is still active\n"
     ]
    },
    {
     "name": "stderr",
     "output_type": "stream",
     "text": [
      "2025-02-19 19:30:10,156 - INFO - this was the pathway tags: []\n",
      "2025-02-19 19:30:10,158 - INFO - Calling  2522273206\n"
     ]
    },
    {
     "name": "stdout",
     "output_type": "stream",
     "text": [
      "[]\n",
      "Calling  2522273206\n",
      "Cold call setup is ready for VENSON G\n"
     ]
    },
    {
     "name": "stderr",
     "output_type": "stream",
     "text": [
      "2025-02-19 19:30:12,467 - INFO - {'status': 'success', 'message': 'Call successfully queued.', 'call_id': '317948f4-702c-467c-85ab-635d2139bc32', 'batch_id': None}\n"
     ]
    },
    {
     "name": "stdout",
     "output_type": "stream",
     "text": [
      "{'status': 'success', 'message': 'Call successfully queued.', 'call_id': '317948f4-702c-467c-85ab-635d2139bc32', 'batch_id': None}\n",
      "Call is still active\n",
      "Call is still active\n",
      "Call is still active\n",
      "Call is still active\n",
      "Call is still active\n",
      "Call is still active\n",
      "Call is still active\n",
      "Call is still active\n",
      "Call is still active\n",
      "Call is still active\n",
      "Call is still active\n"
     ]
    },
    {
     "name": "stderr",
     "output_type": "stream",
     "text": [
      "2025-02-19 19:31:16,396 - INFO - this was the pathway tags: []\n",
      "2025-02-19 19:31:16,397 - INFO - Calling  2526950247\n"
     ]
    },
    {
     "name": "stdout",
     "output_type": "stream",
     "text": [
      "[]\n",
      "Calling  2526950247\n",
      "Cold call setup is ready for VENSON G\n"
     ]
    },
    {
     "name": "stderr",
     "output_type": "stream",
     "text": [
      "2025-02-19 19:31:19,372 - INFO - {'status': 'success', 'message': 'Call successfully queued.', 'call_id': 'a2520435-82d2-47df-9d42-057de290bf68', 'batch_id': None}\n"
     ]
    },
    {
     "name": "stdout",
     "output_type": "stream",
     "text": [
      "{'status': 'success', 'message': 'Call successfully queued.', 'call_id': 'a2520435-82d2-47df-9d42-057de290bf68', 'batch_id': None}\n",
      "Call is still active\n",
      "Call is still active\n",
      "Call is still active\n",
      "Call is still active\n",
      "Call is still active\n",
      "Call is still active\n",
      "Call is still active\n",
      "Call is still active\n",
      "Call is still active\n",
      "Call is still active\n",
      "Call is still active\n",
      "Call is still active\n",
      "Call is still active\n"
     ]
    },
    {
     "name": "stderr",
     "output_type": "stream",
     "text": [
      "2025-02-19 19:32:33,381 - INFO - this was the pathway tags: []\n",
      "2025-02-19 19:32:33,383 - INFO - Calling  2527528815\n"
     ]
    },
    {
     "name": "stdout",
     "output_type": "stream",
     "text": [
      "[]\n",
      "Calling  2527528815\n",
      "Cold call setup is ready for VENSON G\n"
     ]
    },
    {
     "name": "stderr",
     "output_type": "stream",
     "text": [
      "2025-02-19 19:32:36,162 - INFO - {'status': 'success', 'message': 'Call successfully queued.', 'call_id': 'b970f1c6-b823-4811-af7f-9f028a476750', 'batch_id': None}\n"
     ]
    },
    {
     "name": "stdout",
     "output_type": "stream",
     "text": [
      "{'status': 'success', 'message': 'Call successfully queued.', 'call_id': 'b970f1c6-b823-4811-af7f-9f028a476750', 'batch_id': None}\n",
      "Call is still active\n",
      "Call is still active\n",
      "Call is still active\n",
      "Call is still active\n",
      "Call is still active\n",
      "Call is still active\n",
      "Call is still active\n",
      "Call is still active\n",
      "Call is still active\n",
      "Call is still active\n",
      "Call is still active\n",
      "Call is still active\n",
      "Call is still active\n",
      "Call is still active\n",
      "Call is still active\n"
     ]
    },
    {
     "name": "stderr",
     "output_type": "stream",
     "text": [
      "2025-02-19 19:33:58,909 - INFO - this was the pathway tags: []\n"
     ]
    },
    {
     "name": "stdout",
     "output_type": "stream",
     "text": [
      "[]\n"
     ]
    },
    {
     "name": "stderr",
     "output_type": "stream",
     "text": [
      "2025-02-19 19:34:01,914 - INFO - HTTP Request: PATCH https://api.notion.com/v1/pages/19f16f1f-61d6-818b-8c90-df3de8b74bdb \"HTTP/1.1 200 OK\"\n",
      "2025-02-19 19:34:01,917 - INFO - Update databsae for row: VENSON G according to call: b970f1c6-b823-4811-af7f-9f028a476750\n"
     ]
    },
    {
     "name": "stdout",
     "output_type": "stream",
     "text": [
      "Update databsae for row: VENSON G according to call: b970f1c6-b823-4811-af7f-9f028a476750\n"
     ]
    },
    {
     "name": "stderr",
     "output_type": "stream",
     "text": [
      "2025-02-19 19:34:02,353 - INFO - HTTP Request: POST https://api.notion.com/v1/databases/18316f1f61d680a2921bd08b8c62f895/query \"HTTP/1.1 200 OK\"\n",
      "C:\\Users\\DELL\\AppData\\Local\\Temp\\ipykernel_11508\\2036611002.py:42: FutureWarning: In a future version of pandas, parsing datetimes with mixed time zones will raise an error unless `utc=True`. Please specify `utc=True` to opt in to the new behaviour and silence this warning. To create a `Series` with mixed offsets and `object` dtype, please use `apply` and `datetime.datetime.strptime`\n",
      "  df['Next Follow Up Date'] = pd.to_datetime(df['Next Follow Up Date'])\n",
      "2025-02-19 19:34:02,382 - INFO - Update databsae for row: VENSON G according to call: b970f1c6-b823-4811-af7f-9f028a476750\n",
      "2025-02-19 19:34:02,383 - INFO - Calling 9546504502\n"
     ]
    },
    {
     "name": "stdout",
     "output_type": "stream",
     "text": [
      "0     False\n",
      "1     False\n",
      "2     False\n",
      "3     False\n",
      "4     False\n",
      "5     False\n",
      "6     False\n",
      "7     False\n",
      "8     False\n",
      "9     False\n",
      "10    False\n",
      "11    False\n",
      "12    False\n",
      "13    False\n",
      "14    False\n",
      "15    False\n",
      "16    False\n",
      "17     True\n",
      "18     True\n",
      "19     True\n",
      "20     True\n",
      "21     True\n",
      "22     True\n",
      "23     True\n",
      "24    False\n",
      "25    False\n",
      "26    False\n",
      "27    False\n",
      "28    False\n",
      "29    False\n",
      "30    False\n",
      "31    False\n",
      "dtype: bool\n",
      "Sending communcation to notion row: VENSON G\n",
      "Calling 9546504502\n",
      "Cold call setup is ready for JASON\n"
     ]
    },
    {
     "name": "stderr",
     "output_type": "stream",
     "text": [
      "2025-02-19 19:34:04,703 - INFO - {'status': 'success', 'message': 'Call successfully queued.', 'call_id': '094af7be-096e-479f-99f5-8a9ce6c88073', 'batch_id': None}\n"
     ]
    },
    {
     "name": "stdout",
     "output_type": "stream",
     "text": [
      "{'status': 'success', 'message': 'Call successfully queued.', 'call_id': '094af7be-096e-479f-99f5-8a9ce6c88073', 'batch_id': None}\n",
      "Call is still active\n",
      "Call is still active\n",
      "Call is still active\n",
      "Call is still active\n",
      "Call is still active\n",
      "Call is still active\n",
      "Call is still active\n",
      "Call is still active\n",
      "Call is still active\n",
      "Call is still active\n",
      "Call is still active\n",
      "Call is still active\n",
      "Call is still active\n",
      "Call is still active\n"
     ]
    },
    {
     "name": "stderr",
     "output_type": "stream",
     "text": [
      "2025-02-19 19:35:23,445 - INFO - this was the pathway tags: []\n",
      "2025-02-19 19:35:23,447 - INFO - Calling  9546580930\n"
     ]
    },
    {
     "name": "stdout",
     "output_type": "stream",
     "text": [
      "[]\n",
      "Calling  9546580930\n",
      "Cold call setup is ready for JASON\n"
     ]
    },
    {
     "name": "stderr",
     "output_type": "stream",
     "text": [
      "2025-02-19 19:35:26,314 - INFO - {'status': 'success', 'message': 'Call successfully queued.', 'call_id': '60433eb2-01c6-4ada-b552-7b21a7ca5f5f', 'batch_id': None}\n"
     ]
    },
    {
     "name": "stdout",
     "output_type": "stream",
     "text": [
      "{'status': 'success', 'message': 'Call successfully queued.', 'call_id': '60433eb2-01c6-4ada-b552-7b21a7ca5f5f', 'batch_id': None}\n",
      "Call is still active\n",
      "Call is still active\n",
      "Call is still active\n",
      "Call is still active\n",
      "Call is still active\n"
     ]
    },
    {
     "name": "stderr",
     "output_type": "stream",
     "text": [
      "2025-02-19 19:36:05,427 - INFO - this was the pathway tags: ['Answered']\n"
     ]
    },
    {
     "name": "stdout",
     "output_type": "stream",
     "text": [
      "['Answered']\n"
     ]
    },
    {
     "name": "stderr",
     "output_type": "stream",
     "text": [
      "2025-02-19 19:36:06,858 - INFO - Update databsae for row: JASON according to call: 60433eb2-01c6-4ada-b552-7b21a7ca5f5f\n"
     ]
    },
    {
     "name": "stdout",
     "output_type": "stream",
     "text": [
      "Update databsae for row: JASON according to call: 60433eb2-01c6-4ada-b552-7b21a7ca5f5f\n"
     ]
    },
    {
     "name": "stderr",
     "output_type": "stream",
     "text": [
      "2025-02-19 19:36:07,440 - INFO - HTTP Request: POST https://api.notion.com/v1/databases/18316f1f61d680a2921bd08b8c62f895/query \"HTTP/1.1 200 OK\"\n",
      "C:\\Users\\DELL\\AppData\\Local\\Temp\\ipykernel_11508\\2036611002.py:42: FutureWarning: In a future version of pandas, parsing datetimes with mixed time zones will raise an error unless `utc=True`. Please specify `utc=True` to opt in to the new behaviour and silence this warning. To create a `Series` with mixed offsets and `object` dtype, please use `apply` and `datetime.datetime.strptime`\n",
      "  df['Next Follow Up Date'] = pd.to_datetime(df['Next Follow Up Date'])\n",
      "2025-02-19 19:36:07,473 - INFO - Update databsae for row: JASON according to call: 60433eb2-01c6-4ada-b552-7b21a7ca5f5f\n",
      "2025-02-19 19:36:07,476 - INFO - Calling 3473665253\n"
     ]
    },
    {
     "name": "stdout",
     "output_type": "stream",
     "text": [
      "0     False\n",
      "1     False\n",
      "2     False\n",
      "3     False\n",
      "4     False\n",
      "5     False\n",
      "6     False\n",
      "7     False\n",
      "8     False\n",
      "9     False\n",
      "10    False\n",
      "11    False\n",
      "12    False\n",
      "13    False\n",
      "14    False\n",
      "15    False\n",
      "16    False\n",
      "17     True\n",
      "18     True\n",
      "19     True\n",
      "20     True\n",
      "21     True\n",
      "22     True\n",
      "23     True\n",
      "24    False\n",
      "25    False\n",
      "26    False\n",
      "27    False\n",
      "28    False\n",
      "29    False\n",
      "30    False\n",
      "31    False\n",
      "dtype: bool\n",
      "Sending communcation to notion row: JASON\n",
      "Calling 3473665253\n",
      "Cold call setup is ready for WARREN\n"
     ]
    },
    {
     "name": "stderr",
     "output_type": "stream",
     "text": [
      "2025-02-19 19:36:13,990 - INFO - {'status': 'success', 'message': 'Call successfully queued.', 'call_id': 'de1cf163-ef34-41b1-a945-b8346680510a', 'batch_id': None}\n"
     ]
    },
    {
     "name": "stdout",
     "output_type": "stream",
     "text": [
      "{'status': 'success', 'message': 'Call successfully queued.', 'call_id': 'de1cf163-ef34-41b1-a945-b8346680510a', 'batch_id': None}\n",
      "Call is still active\n",
      "Call is still active\n",
      "Call is still active\n",
      "Call is still active\n",
      "Call is still active\n",
      "Call is still active\n",
      "Call is still active\n",
      "Call is still active\n",
      "Call is still active\n",
      "Call is still active\n",
      "Call is still active\n",
      "Call is still active\n",
      "Call is still active\n"
     ]
    },
    {
     "name": "stderr",
     "output_type": "stream",
     "text": [
      "2025-02-19 19:37:28,414 - INFO - this was the pathway tags: []\n",
      "2025-02-19 19:37:28,414 - INFO - Calling  3472560224\n"
     ]
    },
    {
     "name": "stdout",
     "output_type": "stream",
     "text": [
      "[]\n",
      "Calling  3472560224\n",
      "Cold call setup is ready for WARREN\n"
     ]
    },
    {
     "name": "stderr",
     "output_type": "stream",
     "text": [
      "2025-02-19 19:37:31,479 - INFO - {'status': 'success', 'message': 'Call successfully queued.', 'call_id': '374ac70d-05d1-4f30-81e2-c88af1038059', 'batch_id': None}\n"
     ]
    },
    {
     "name": "stdout",
     "output_type": "stream",
     "text": [
      "{'status': 'success', 'message': 'Call successfully queued.', 'call_id': '374ac70d-05d1-4f30-81e2-c88af1038059', 'batch_id': None}\n",
      "Call is still active\n",
      "Call is still active\n",
      "Call is still active\n",
      "Call is still active\n",
      "Call is still active\n",
      "Call is still active\n",
      "Call is still active\n",
      "Call is still active\n",
      "Call is still active\n",
      "Call is still active\n",
      "Call is still active\n",
      "Call is still active\n"
     ]
    },
    {
     "name": "stderr",
     "output_type": "stream",
     "text": [
      "2025-02-19 19:38:47,411 - INFO - this was the pathway tags: []\n",
      "2025-02-19 19:38:47,412 - INFO - Calling  3473665256\n"
     ]
    },
    {
     "name": "stdout",
     "output_type": "stream",
     "text": [
      "[]\n",
      "Calling  3473665256\n",
      "Cold call setup is ready for WARREN\n"
     ]
    },
    {
     "name": "stderr",
     "output_type": "stream",
     "text": [
      "2025-02-19 19:38:55,633 - INFO - {'status': 'success', 'message': 'Call successfully queued.', 'call_id': 'a48ae438-ba7b-46b2-bd77-b43e1e3057c0', 'batch_id': None}\n"
     ]
    },
    {
     "name": "stdout",
     "output_type": "stream",
     "text": [
      "{'status': 'success', 'message': 'Call successfully queued.', 'call_id': 'a48ae438-ba7b-46b2-bd77-b43e1e3057c0', 'batch_id': None}\n",
      "Call is still active\n",
      "Call is still active\n",
      "Call is still active\n",
      "Call is still active\n",
      "Call is still active\n",
      "Call is still active\n",
      "Call is still active\n",
      "Call is still active\n"
     ]
    },
    {
     "name": "stderr",
     "output_type": "stream",
     "text": [
      "2025-02-19 19:39:49,786 - INFO - this was the pathway tags: []\n",
      "2025-02-19 19:39:49,788 - INFO - Calling  3366176412\n"
     ]
    },
    {
     "name": "stdout",
     "output_type": "stream",
     "text": [
      "[]\n",
      "Calling  3366176412\n",
      "Cold call setup is ready for WARREN\n"
     ]
    },
    {
     "name": "stderr",
     "output_type": "stream",
     "text": [
      "2025-02-19 19:39:52,061 - INFO - {'status': 'success', 'message': 'Call successfully queued.', 'call_id': '62a72fd2-eeb0-443a-bd0f-1b37a572fbc3', 'batch_id': None}\n"
     ]
    },
    {
     "name": "stdout",
     "output_type": "stream",
     "text": [
      "{'status': 'success', 'message': 'Call successfully queued.', 'call_id': '62a72fd2-eeb0-443a-bd0f-1b37a572fbc3', 'batch_id': None}\n",
      "Call is still active\n",
      "Call is still active\n",
      "Call is still active\n",
      "Call is still active\n",
      "Call is still active\n",
      "Call is still active\n",
      "Call is still active\n",
      "Call is still active\n",
      "Call is still active\n",
      "Call is still active\n",
      "Call is still active\n",
      "Call is still active\n",
      "Call is still active\n",
      "Call is still active\n"
     ]
    },
    {
     "name": "stderr",
     "output_type": "stream",
     "text": [
      "2025-02-19 19:41:12,141 - INFO - this was the pathway tags: []\n"
     ]
    },
    {
     "name": "stdout",
     "output_type": "stream",
     "text": [
      "[]\n"
     ]
    },
    {
     "name": "stderr",
     "output_type": "stream",
     "text": [
      "2025-02-19 19:41:15,982 - INFO - HTTP Request: PATCH https://api.notion.com/v1/pages/19f16f1f-61d6-81b7-8229-e3a08356beed \"HTTP/1.1 200 OK\"\n",
      "2025-02-19 19:41:15,983 - INFO - Update databsae for row: WARREN according to call: 62a72fd2-eeb0-443a-bd0f-1b37a572fbc3\n"
     ]
    },
    {
     "name": "stdout",
     "output_type": "stream",
     "text": [
      "Update databsae for row: WARREN according to call: 62a72fd2-eeb0-443a-bd0f-1b37a572fbc3\n"
     ]
    },
    {
     "name": "stderr",
     "output_type": "stream",
     "text": [
      "2025-02-19 19:41:16,555 - INFO - HTTP Request: POST https://api.notion.com/v1/databases/18316f1f61d680a2921bd08b8c62f895/query \"HTTP/1.1 200 OK\"\n",
      "C:\\Users\\DELL\\AppData\\Local\\Temp\\ipykernel_11508\\2036611002.py:42: FutureWarning: In a future version of pandas, parsing datetimes with mixed time zones will raise an error unless `utc=True`. Please specify `utc=True` to opt in to the new behaviour and silence this warning. To create a `Series` with mixed offsets and `object` dtype, please use `apply` and `datetime.datetime.strptime`\n",
      "  df['Next Follow Up Date'] = pd.to_datetime(df['Next Follow Up Date'])\n",
      "2025-02-19 19:41:16,583 - INFO - Update databsae for row: WARREN according to call: 62a72fd2-eeb0-443a-bd0f-1b37a572fbc3\n",
      "2025-02-19 19:41:16,586 - INFO - Calling 2523422965\n"
     ]
    },
    {
     "name": "stdout",
     "output_type": "stream",
     "text": [
      "0     False\n",
      "1     False\n",
      "2     False\n",
      "3     False\n",
      "4     False\n",
      "5     False\n",
      "6     False\n",
      "7     False\n",
      "8     False\n",
      "9     False\n",
      "10    False\n",
      "11    False\n",
      "12    False\n",
      "13    False\n",
      "14    False\n",
      "15    False\n",
      "16    False\n",
      "17     True\n",
      "18     True\n",
      "19     True\n",
      "20     True\n",
      "21     True\n",
      "22     True\n",
      "23     True\n",
      "24    False\n",
      "25     True\n",
      "26    False\n",
      "27    False\n",
      "28    False\n",
      "29    False\n",
      "30    False\n",
      "31    False\n",
      "dtype: bool\n",
      "Sending communcation to notion row: WARREN\n",
      "Calling 2523422965\n",
      "Cold call setup is ready for CARMELLA D\n"
     ]
    },
    {
     "name": "stderr",
     "output_type": "stream",
     "text": [
      "2025-02-19 19:41:19,177 - INFO - {'status': 'success', 'message': 'Call successfully queued.', 'call_id': 'dc36766e-1ae7-4399-9657-aecf76c27af3', 'batch_id': None}\n"
     ]
    },
    {
     "name": "stdout",
     "output_type": "stream",
     "text": [
      "{'status': 'success', 'message': 'Call successfully queued.', 'call_id': 'dc36766e-1ae7-4399-9657-aecf76c27af3', 'batch_id': None}\n",
      "Call is still active\n",
      "Call is still active\n",
      "Call is still active\n",
      "Call is still active\n",
      "Call is still active\n",
      "Call is still active\n",
      "Call is still active\n"
     ]
    },
    {
     "name": "stderr",
     "output_type": "stream",
     "text": [
      "2025-02-19 19:42:06,734 - INFO - this was the pathway tags: []\n",
      "2025-02-19 19:42:06,735 - INFO - Calling  2525042890\n"
     ]
    },
    {
     "name": "stdout",
     "output_type": "stream",
     "text": [
      "[]\n",
      "Calling  2525042890\n",
      "Cold call setup is ready for CARMELLA D\n"
     ]
    },
    {
     "name": "stderr",
     "output_type": "stream",
     "text": [
      "2025-02-19 19:42:09,241 - INFO - {'status': 'success', 'message': 'Call successfully queued.', 'call_id': '64ac97a7-5d37-4498-bd05-6a28f9e77786', 'batch_id': None}\n"
     ]
    },
    {
     "name": "stdout",
     "output_type": "stream",
     "text": [
      "{'status': 'success', 'message': 'Call successfully queued.', 'call_id': '64ac97a7-5d37-4498-bd05-6a28f9e77786', 'batch_id': None}\n",
      "Call is still active\n",
      "Call is still active\n",
      "Call is still active\n",
      "Call is still active\n",
      "Call is still active\n",
      "Call is still active\n",
      "Call is still active\n",
      "Call is still active\n",
      "Call is still active\n",
      "Call is still active\n",
      "Call is still active\n",
      "Call is still active\n",
      "Call is still active\n"
     ]
    },
    {
     "name": "stderr",
     "output_type": "stream",
     "text": [
      "2025-02-19 19:43:27,700 - INFO - this was the pathway tags: []\n"
     ]
    },
    {
     "name": "stdout",
     "output_type": "stream",
     "text": [
      "[]\n"
     ]
    },
    {
     "name": "stderr",
     "output_type": "stream",
     "text": [
      "2025-02-19 19:43:30,129 - INFO - HTTP Request: PATCH https://api.notion.com/v1/pages/19f16f1f-61d6-8174-a647-decb15bc7ae7 \"HTTP/1.1 200 OK\"\n",
      "2025-02-19 19:43:30,133 - INFO - Update databsae for row: CARMELLA D according to call: 64ac97a7-5d37-4498-bd05-6a28f9e77786\n"
     ]
    },
    {
     "name": "stdout",
     "output_type": "stream",
     "text": [
      "Update databsae for row: CARMELLA D according to call: 64ac97a7-5d37-4498-bd05-6a28f9e77786\n"
     ]
    },
    {
     "name": "stderr",
     "output_type": "stream",
     "text": [
      "2025-02-19 19:43:30,965 - INFO - HTTP Request: POST https://api.notion.com/v1/databases/18316f1f61d680a2921bd08b8c62f895/query \"HTTP/1.1 200 OK\"\n",
      "C:\\Users\\DELL\\AppData\\Local\\Temp\\ipykernel_11508\\2036611002.py:42: FutureWarning: In a future version of pandas, parsing datetimes with mixed time zones will raise an error unless `utc=True`. Please specify `utc=True` to opt in to the new behaviour and silence this warning. To create a `Series` with mixed offsets and `object` dtype, please use `apply` and `datetime.datetime.strptime`\n",
      "  df['Next Follow Up Date'] = pd.to_datetime(df['Next Follow Up Date'])\n",
      "2025-02-19 19:43:30,998 - INFO - Update databsae for row: CARMELLA D according to call: 64ac97a7-5d37-4498-bd05-6a28f9e77786\n",
      "2025-02-19 19:43:31,001 - INFO - Calling 7043459864\n"
     ]
    },
    {
     "name": "stdout",
     "output_type": "stream",
     "text": [
      "0     False\n",
      "1     False\n",
      "2     False\n",
      "3     False\n",
      "4     False\n",
      "5     False\n",
      "6     False\n",
      "7     False\n",
      "8     False\n",
      "9     False\n",
      "10    False\n",
      "11    False\n",
      "12    False\n",
      "13    False\n",
      "14    False\n",
      "15    False\n",
      "16    False\n",
      "17     True\n",
      "18     True\n",
      "19     True\n",
      "20     True\n",
      "21     True\n",
      "22     True\n",
      "23     True\n",
      "24    False\n",
      "25     True\n",
      "26     True\n",
      "27    False\n",
      "28    False\n",
      "29    False\n",
      "30    False\n",
      "31    False\n",
      "dtype: bool\n",
      "Sending communcation to notion row: CARMELLA D\n",
      "Calling 7043459864\n",
      "Cold call setup is ready for MA E\n"
     ]
    },
    {
     "name": "stderr",
     "output_type": "stream",
     "text": [
      "2025-02-19 19:43:33,696 - INFO - {'status': 'success', 'message': 'Call successfully queued.', 'call_id': '4a3f36d7-7ba0-42c8-ae48-857b8c0ab194', 'batch_id': None}\n"
     ]
    },
    {
     "name": "stdout",
     "output_type": "stream",
     "text": [
      "{'status': 'success', 'message': 'Call successfully queued.', 'call_id': '4a3f36d7-7ba0-42c8-ae48-857b8c0ab194', 'batch_id': None}\n",
      "Call is still active\n",
      "Call is still active\n",
      "Call is still active\n",
      "Call is still active\n",
      "Call is still active\n",
      "Call is still active\n",
      "Call is still active\n",
      "Call is still active\n",
      "Call is still active\n",
      "Call is still active\n",
      "Call is still active\n",
      "Call is still active\n",
      "Call is still active\n",
      "Call is still active\n"
     ]
    },
    {
     "name": "stderr",
     "output_type": "stream",
     "text": [
      "2025-02-19 19:44:52,514 - INFO - this was the pathway tags: []\n",
      "2025-02-19 19:44:52,516 - INFO - Calling  7047567932\n"
     ]
    },
    {
     "name": "stdout",
     "output_type": "stream",
     "text": [
      "[]\n",
      "Calling  7047567932\n",
      "Cold call setup is ready for MA E\n"
     ]
    },
    {
     "name": "stderr",
     "output_type": "stream",
     "text": [
      "2025-02-19 19:44:54,938 - INFO - {'status': 'success', 'message': 'Call successfully queued.', 'call_id': 'b99b127f-ad75-448f-9a28-69bd3a2ec0a4', 'batch_id': None}\n"
     ]
    },
    {
     "name": "stdout",
     "output_type": "stream",
     "text": [
      "{'status': 'success', 'message': 'Call successfully queued.', 'call_id': 'b99b127f-ad75-448f-9a28-69bd3a2ec0a4', 'batch_id': None}\n",
      "Call is still active\n",
      "Call is still active\n",
      "Call is still active\n",
      "Call is still active\n",
      "Call is still active\n",
      "Call is still active\n",
      "Call is still active\n",
      "Call is still active\n",
      "Call is still active\n",
      "Call is still active\n",
      "Call is still active\n",
      "Call is still active\n",
      "Call is still active\n",
      "Call is still active\n"
     ]
    },
    {
     "name": "stderr",
     "output_type": "stream",
     "text": [
      "2025-02-19 19:46:15,837 - INFO - this was the pathway tags: []\n"
     ]
    },
    {
     "name": "stdout",
     "output_type": "stream",
     "text": [
      "[]\n"
     ]
    },
    {
     "name": "stderr",
     "output_type": "stream",
     "text": [
      "2025-02-19 19:46:17,928 - INFO - HTTP Request: PATCH https://api.notion.com/v1/pages/19f16f1f-61d6-81d9-9752-ee07570cb970 \"HTTP/1.1 200 OK\"\n",
      "2025-02-19 19:46:17,933 - INFO - Update databsae for row: MA E according to call: b99b127f-ad75-448f-9a28-69bd3a2ec0a4\n"
     ]
    },
    {
     "name": "stdout",
     "output_type": "stream",
     "text": [
      "Update databsae for row: MA E according to call: b99b127f-ad75-448f-9a28-69bd3a2ec0a4\n"
     ]
    },
    {
     "name": "stderr",
     "output_type": "stream",
     "text": [
      "2025-02-19 19:46:18,711 - INFO - HTTP Request: POST https://api.notion.com/v1/databases/18316f1f61d680a2921bd08b8c62f895/query \"HTTP/1.1 200 OK\"\n",
      "C:\\Users\\DELL\\AppData\\Local\\Temp\\ipykernel_11508\\2036611002.py:42: FutureWarning: In a future version of pandas, parsing datetimes with mixed time zones will raise an error unless `utc=True`. Please specify `utc=True` to opt in to the new behaviour and silence this warning. To create a `Series` with mixed offsets and `object` dtype, please use `apply` and `datetime.datetime.strptime`\n",
      "  df['Next Follow Up Date'] = pd.to_datetime(df['Next Follow Up Date'])\n",
      "2025-02-19 19:46:18,728 - INFO - Update databsae for row: MA E according to call: b99b127f-ad75-448f-9a28-69bd3a2ec0a4\n",
      "2025-02-19 19:46:18,731 - INFO - Calling 7044728324\n"
     ]
    },
    {
     "name": "stdout",
     "output_type": "stream",
     "text": [
      "0     False\n",
      "1     False\n",
      "2     False\n",
      "3     False\n",
      "4     False\n",
      "5     False\n",
      "6     False\n",
      "7     False\n",
      "8     False\n",
      "9     False\n",
      "10    False\n",
      "11    False\n",
      "12    False\n",
      "13    False\n",
      "14    False\n",
      "15    False\n",
      "16    False\n",
      "17     True\n",
      "18     True\n",
      "19     True\n",
      "20     True\n",
      "21     True\n",
      "22     True\n",
      "23     True\n",
      "24    False\n",
      "25     True\n",
      "26     True\n",
      "27     True\n",
      "28    False\n",
      "29    False\n",
      "30    False\n",
      "31    False\n",
      "dtype: bool\n",
      "Sending communcation to notion row: MA E\n",
      "Calling 7044728324\n",
      "Cold call setup is ready for CLAYTON\n"
     ]
    },
    {
     "name": "stderr",
     "output_type": "stream",
     "text": [
      "2025-02-19 19:46:21,467 - INFO - {'status': 'success', 'message': 'Call successfully queued.', 'call_id': 'f1e058b2-e628-48fe-bb02-f2a374a5ffdf', 'batch_id': None}\n"
     ]
    },
    {
     "name": "stdout",
     "output_type": "stream",
     "text": [
      "{'status': 'success', 'message': 'Call successfully queued.', 'call_id': 'f1e058b2-e628-48fe-bb02-f2a374a5ffdf', 'batch_id': None}\n",
      "Call is still active\n",
      "Call is still active\n",
      "Call is still active\n",
      "Call is still active\n",
      "Call is still active\n",
      "Call is still active\n",
      "Call is still active\n",
      "Call is still active\n",
      "Call is still active\n",
      "Call is still active\n",
      "Call is still active\n",
      "Call is still active\n",
      "Call is still active\n",
      "Call is still active\n"
     ]
    },
    {
     "name": "stderr",
     "output_type": "stream",
     "text": [
      "2025-02-19 19:47:41,731 - INFO - this was the pathway tags: []\n",
      "2025-02-19 19:47:41,733 - INFO - Calling  9846891410\n"
     ]
    },
    {
     "name": "stdout",
     "output_type": "stream",
     "text": [
      "[]\n",
      "Calling  9846891410\n",
      "Cold call setup is ready for CLAYTON\n"
     ]
    },
    {
     "name": "stderr",
     "output_type": "stream",
     "text": [
      "2025-02-19 19:47:44,317 - INFO - {'status': 'success', 'message': 'Call successfully queued.', 'call_id': 'ae910271-0e03-4767-a728-72eb89488839', 'batch_id': None}\n"
     ]
    },
    {
     "name": "stdout",
     "output_type": "stream",
     "text": [
      "{'status': 'success', 'message': 'Call successfully queued.', 'call_id': 'ae910271-0e03-4767-a728-72eb89488839', 'batch_id': None}\n",
      "Call is still active\n",
      "Call is still active\n",
      "Call is still active\n",
      "Call is still active\n",
      "Call is still active\n",
      "Call is still active\n",
      "Call is still active\n",
      "Call is still active\n",
      "Call is still active\n"
     ]
    },
    {
     "name": "stderr",
     "output_type": "stream",
     "text": [
      "2025-02-19 19:48:44,902 - INFO - this was the pathway tags: []\n",
      "2025-02-19 19:48:44,904 - INFO - Calling  7048399395\n"
     ]
    },
    {
     "name": "stdout",
     "output_type": "stream",
     "text": [
      "[]\n",
      "Calling  7048399395\n",
      "Cold call setup is ready for CLAYTON\n"
     ]
    },
    {
     "name": "stderr",
     "output_type": "stream",
     "text": [
      "2025-02-19 19:48:46,633 - INFO - {'status': 'error', 'message': 'Rate limit exceeded'}\n"
     ]
    },
    {
     "name": "stdout",
     "output_type": "stream",
     "text": [
      "{'status': 'error', 'message': 'Rate limit exceeded'}\n"
     ]
    },
    {
     "ename": "KeyError",
     "evalue": "'call_id'",
     "output_type": "error",
     "traceback": [
      "\u001b[1;31m---------------------------------------------------------------------------\u001b[0m",
      "\u001b[1;31mKeyError\u001b[0m                                  Traceback (most recent call last)",
      "Cell \u001b[1;32mIn[25], line 28\u001b[0m\n\u001b[0;32m     25\u001b[0m logger\u001b[38;5;241m.\u001b[39minfo(send_call_response)\n\u001b[0;32m     27\u001b[0m \u001b[38;5;66;03m# collect call id\u001b[39;00m\n\u001b[1;32m---> 28\u001b[0m call_id \u001b[38;5;241m=\u001b[39m \u001b[43msend_call_response\u001b[49m\u001b[43m[\u001b[49m\u001b[38;5;124;43m\"\u001b[39;49m\u001b[38;5;124;43mcall_id\u001b[39;49m\u001b[38;5;124;43m\"\u001b[39;49m\u001b[43m]\u001b[49m\n\u001b[0;32m     30\u001b[0m call_id_response \u001b[38;5;241m=\u001b[39m json\u001b[38;5;241m.\u001b[39mloads(requests\u001b[38;5;241m.\u001b[39mrequest(\u001b[38;5;124m\"\u001b[39m\u001b[38;5;124mGET\u001b[39m\u001b[38;5;124m\"\u001b[39m, Blend_url\u001b[38;5;241m+\u001b[39m\u001b[38;5;124m\"\u001b[39m\u001b[38;5;124m/\u001b[39m\u001b[38;5;124m\"\u001b[39m\u001b[38;5;241m+\u001b[39mcall_id, headers\u001b[38;5;241m=\u001b[39mheaders)\u001b[38;5;241m.\u001b[39mtext)\n\u001b[0;32m     31\u001b[0m \u001b[38;5;66;03m# wait for call to end\u001b[39;00m\n",
      "\u001b[1;31mKeyError\u001b[0m: 'call_id'"
     ]
    }
   ],
   "source": [
    "\n",
    "#collect relevent lead list\n",
    "cold_call_df = pull_notion_data(\"cold\")\n",
    "\n",
    "#logging\n",
    "logger.info(f\"Successfully pulled {len(cold_call_df)} records from Notion\")\n",
    "print(f\"Successfully pulled {len(cold_call_df)} records from Notion\")\n",
    "\n",
    "# iterate rows and collect user data\n",
    "for index, row in cold_call_df.iterrows():\n",
    "\n",
    "    #collect all phone numbers\n",
    "    Customer_phone_number = row['Phone'].split(\",\")\n",
    "    \n",
    "    for phone in Customer_phone_number:\n",
    "        \n",
    "        logger.info(f\"Calling {phone}\")\n",
    "        print(f\"Calling {phone}\")\n",
    "        #call setup\n",
    "        data, headers = call_setup(row,phone,type=\"cold\")\n",
    "        # send call\n",
    "        send_call_response = json.loads(requests.request(\"POST\", Blend_url, json=data, headers=headers).text)\n",
    "\n",
    "        # log status\n",
    "        print(send_call_response)\n",
    "        logger.info(send_call_response)\n",
    "        \n",
    "        # collect call id\n",
    "        call_id = send_call_response[\"call_id\"]\n",
    "        \n",
    "        call_id_response = json.loads(requests.request(\"GET\", Blend_url+\"/\"+call_id, headers=headers).text)\n",
    "        # wait for call to end\n",
    "        while call_id_response[\"completed\"] == False:\n",
    "            time.sleep(3)\n",
    "            print(\"Call is still active\")\n",
    "            try:\n",
    "                call_id_response = json.loads(requests.request(\"GET\", Blend_url+\"/\"+call_id, headers=headers).text)\n",
    "            except requests.exceptions.RequestException as e:\n",
    "                print(f\"HTTP Request failed: {str(e)}\")\n",
    "\n",
    "        # wait for tags to update\n",
    "        time.sleep(10)\n",
    "        print(call_id_response['pathway_tags'])\n",
    "        logger.info(f\"this was the pathway tags: {call_id_response['pathway_tags']}\")\n",
    "        \n",
    "        if \"Answered\" in call_id_response['pathway_tags']:\n",
    "            break\n",
    "        \n",
    "    # update database based on results\n",
    "    update_data_base_after_cold_call(row['notion raw id'],call_id)\n",
    "    print(f\"Update databsae for row: {row['customer name']} according to call: {call_id}\")\n",
    "    logger.info(f\"Update databsae for row: {row['customer name']} according to call: {call_id}\")    \n",
    "        \n",
    "\n",
    "    # send correct mail\n",
    "    post_cold_call_communication(row['notion raw id'])\n",
    "    print(f\"Sending communcation to notion row: {row['customer name']}\")\n",
    "    logger.info(f\"Update databsae for row: {row['customer name']} according to call: {call_id}\")    \n",
    "    \n",
    "    \n",
    "    "
   ]
  },
  {
   "cell_type": "markdown",
   "metadata": {},
   "source": [
    "closer main loop"
   ]
  },
  {
   "cell_type": "code",
   "execution_count": null,
   "metadata": {},
   "outputs": [],
   "source": [
    "cold_call_df = pull_notion_data(\"cold\")\n",
    "cold_call_df"
   ]
  },
  {
   "cell_type": "code",
   "execution_count": null,
   "metadata": {},
   "outputs": [],
   "source": [
    "\n",
    "\n",
    "Closer_call_df = pull_notion_data(\"closer\")\n",
    "\n",
    "# iterate rows and collect user data\n",
    "for index, row in Closer_call_df.iterrows():\n",
    "\n",
    "    #call setup\n",
    "    data, headers = call_setup(row, type=\"closer\")\n",
    "    # send call\n",
    "    send_call_response = json.loads(requests.request(\"POST\", Blend_url, json=data, headers=headers).text)\n",
    "\n",
    "    # print status\n",
    "    print(send_call_response)\n",
    "    \n",
    "    # collect call id\n",
    "    call_id = send_call_response[\"call_id\"]\n",
    "    \n",
    "    call_id_response = json.loads(requests.request(\"GET\", Blend_url+\"/\"+call_id, headers=headers).text)\n",
    "    # wait for call to end\n",
    "    while call_id_response[\"completed\"] == False:\n",
    "        time.sleep(3)\n",
    "        print(\"Call is still active\")\n",
    "        call_id_response = json.loads(requests.request(\"GET\", Blend_url+\"/\"+call_id, headers=headers).text)\n",
    "        \n",
    "    # wait for tags to update\n",
    "    time.sleep(3)\n",
    "    \n",
    "    # update database based on results\n",
    "    update_data_base_after_closer(row['notion raw id'],call_id)\n",
    "\n",
    "    # send correct mail\n",
    "    post_closer_call_communication(row['notion raw id'])"
   ]
  },
  {
   "cell_type": "markdown",
   "metadata": {},
   "source": [
    "#Testing"
   ]
  },
  {
   "cell_type": "code",
   "execution_count": 27,
   "metadata": {},
   "outputs": [
    {
     "name": "stdout",
     "output_type": "stream",
     "text": [
      "{'c_id': '6dbd8eb2-7691-440d-a9cc-a73a4f278b19', 'created_at': '2025-02-19T16:32:19.521Z', 'call_length': 0.4166666666666667, 'to': '+13363603640', 'from': '+19103918099', 'inbound': True, 'max_duration': 30, 'metadata': None, 'endpoint_url': 'server.aws.dc5.bland.ai', 'variables': {'now': 'Wednesday, February 19, 2025 8:32 AM', 'now_utc': 'Wednesday, February 19, 2025 4:32 PM', 'short_from': '9103918099', 'short_to': '3363603640', 'from': '+19103918099', 'to': '+13363603640', 'call_id': '6dbd8eb2-7691-440d-a9cc-a73a4f278b19', 'phone_number': '+19103918099', 'city': 'FAYETTEVILLE', 'country': 'US', 'state': 'NC', 'zip': '28314', 'record': 'false', 'placement_group': 'blandshared', 'region': 'dc5', 'language': 'English', 'user_id': 'da9f344c-390c-4d2b-98a6-be62a74b29f4', 'timestamp': '2025-02-19T08:32:20-08:00', 'timezone': 'America/Los_Angeles'}, 'start_time': None, 'completed': True, 'queue_status': 'complete', 'error_message': None, 'answered_by': None, 'batch_id': None, 'started_at': '2025-02-19T16:32:18.000Z', 'record': False, 'recording_url': None, 'summary': 'The caller mistakenly believed they received a call from TrueClaim Services, but in reality, they initiated the call. The caller seems uncertain about their reason for calling, and the conversation was cut short.', 'local_dialing': False, 'price': 0.038, 'call_ended_by': 'USER', 'analysis': {'zip': '28314', 'city': 'FAYETTEVILLE', 'email': None, 'state': 'NC', 'country': 'US', 'language': 'English', 'timezone': 'America/Los_Angeles', 'initiator': 'user', 'timestamp': '2025-02-19T08:32:20-08:00', 'call_length': 0.4166666666666667, 'call_reason': None, 'phone_number': '+19103918099', 'appointment_time': None, 'user_wants_to_book_appointment': False}, 'analysis_schema': {}, 'campaign_id': None, 'transferred_to': None, 'pathway_tags': [], 'status': 'completed', 'recording_expiration': None, 'pathway_id': None, 'call_id': '6dbd8eb2-7691-440d-a9cc-a73a4f278b19'}\n",
      "{'c_id': 'eff19cfa-80de-40d6-baf1-b26c08b7704f', 'created_at': '2025-02-18T18:47:46.597Z', 'call_length': 3.616666666666667, 'to': '+13363603640', 'from': '+12058515599', 'inbound': True, 'max_duration': 30, 'metadata': None, 'endpoint_url': 'server.aws.dc5.bland.ai', 'variables': {'now': 'Tuesday, February 18, 2025 10:47 AM', 'now_utc': 'Tuesday, February 18, 2025 6:47 PM', 'short_from': '2058515599', 'short_to': '3363603640', 'from': '+12058515599', 'to': '+13363603640', 'call_id': 'eff19cfa-80de-40d6-baf1-b26c08b7704f', 'phone_number': '+12058515599', 'country': 'US', 'state': 'AL', 'record': 'false', 'placement_group': 'blandshared', 'region': 'dc5', 'language': 'English', 'user_id': 'da9f344c-390c-4d2b-98a6-be62a74b29f4', 'timestamp': '2025-02-18T10:47:47-08:00', 'timezone': 'America/Los_Angeles'}, 'start_time': None, 'completed': True, 'queue_status': 'complete', 'error_message': None, 'answered_by': None, 'batch_id': None, 'started_at': '2025-02-18T18:47:45.000Z', 'record': False, 'recording_url': None, 'summary': 'Here is a concise and insightful summary of the call:\\n\\nThe caller, Jonathan Payment, reached out to TrueClaim Services to inquire about recovering surplus funds from a foreclosed property in Raleigh, North Carolina, which occurred almost a year ago. The property was worth around $300,000 at the time of foreclosure. The assistant, Jamie, gathered necessary information and will pass it along to a specialist who will contact Jonathan to discuss the next steps for recovering his surplus funds.', 'local_dialing': False, 'price': 0.326, 'call_ended_by': 'USER', 'analysis': {'user_name': 'Jonathan Payment', 'user_email': 'jonathandotstabin@gmail.com', 'call_length': 3.6166666666666667, 'call_timezone': 'America/Los_Angeles', 'call_initiator': 'user', 'call_timestamp': '2025-02-18T10:47:47-08:00', 'property_state': 'North Carolina', 'property_value': '$300,000', 'property_county': 'Raleigh', 'appointment_time': None, 'foreclosure_date': 'almost a year ago', 'property_address': None, 'user_phone_number': '+12058515599', 'user_wants_to_book_appointment': False}, 'analysis_schema': {}, 'campaign_id': None, 'transferred_to': None, 'pathway_tags': [], 'status': 'completed', 'recording_expiration': None, 'pathway_id': None, 'call_id': 'eff19cfa-80de-40d6-baf1-b26c08b7704f'}\n",
      "{'c_id': 'c967af27-2689-4f59-8f25-c7e44c3d54cd', 'created_at': '2025-02-18T09:17:57.538Z', 'call_length': 0.6333333333333333, 'to': '+13363603640', 'from': '+12058515599', 'inbound': True, 'max_duration': 30, 'metadata': None, 'endpoint_url': 'server.aws.dc5.bland.ai', 'variables': {'now': 'Tuesday, February 18, 2025 1:17 AM', 'now_utc': 'Tuesday, February 18, 2025 9:17 AM', 'short_from': '2058515599', 'short_to': '3363603640', 'from': '+12058515599', 'to': '+13363603640', 'call_id': 'c967af27-2689-4f59-8f25-c7e44c3d54cd', 'phone_number': '+12058515599', 'country': 'US', 'state': 'AL', 'record': 'false', 'placement_group': 'blandshared', 'region': 'dc5', 'language': 'English', 'user_id': 'da9f344c-390c-4d2b-98a6-be62a74b29f4', 'timestamp': '2025-02-18T01:17:57-08:00', 'timezone': 'America/Los_Angeles'}, 'start_time': None, 'completed': True, 'queue_status': 'complete', 'error_message': None, 'answered_by': None, 'batch_id': None, 'started_at': '2025-02-18T09:17:56.000Z', 'record': False, 'recording_url': None, 'summary': \"The user contacted TrueClaim Services seeking assistance with their proposal, but did not provide specific details about their needs. The assistant, Jamie, offered to help and requested more information to better understand the user's requirements.\", 'local_dialing': False, 'price': 0.057, 'call_ended_by': 'USER', 'analysis': {'email': None, 'state': 'AL', 'country': 'US', 'language': 'English', 'timezone': 'America/Los_Angeles', 'initiator': 'user', 'timestamp': '2025-02-18T01:17:57-08:00', 'call_length': 0.6333333333333333, 'call_reason': 'proposal', 'phone_number': '+12058515599', 'appointment_time': None, 'user_wants_to_book_appointment': None}, 'analysis_schema': {}, 'campaign_id': None, 'transferred_to': None, 'pathway_tags': [], 'status': 'completed', 'recording_expiration': None, 'pathway_id': None, 'call_id': 'c967af27-2689-4f59-8f25-c7e44c3d54cd'}\n",
      "{'c_id': '399db321-c703-4aaf-b903-c5ce06d9dd9b', 'created_at': '2025-02-17T11:31:56.566Z', 'call_length': 0.3, 'to': '+13363603640', 'from': '+12058515599', 'inbound': True, 'max_duration': 30, 'metadata': None, 'endpoint_url': 'server.aws.dc5.bland.ai', 'variables': {'now': 'Monday, February 17, 2025 3:31 AM', 'now_utc': 'Monday, February 17, 2025 11:31 AM', 'short_from': '2058515599', 'short_to': '3363603640', 'from': '+12058515599', 'to': '+13363603640', 'call_id': '399db321-c703-4aaf-b903-c5ce06d9dd9b', 'phone_number': '+12058515599', 'country': 'US', 'state': 'AL', 'record': 'false', 'placement_group': 'blandshared', 'region': 'dc5', 'language': 'English', 'user_id': 'da9f344c-390c-4d2b-98a6-be62a74b29f4', 'timestamp': '2025-02-17T03:31:56-08:00', 'timezone': 'America/Los_Angeles'}, 'start_time': None, 'completed': True, 'queue_status': 'complete', 'error_message': None, 'answered_by': None, 'batch_id': None, 'started_at': '2025-02-17T11:31:55.000Z', 'record': False, 'recording_url': None, 'summary': 'Not enough information to generate summary.', 'local_dialing': False, 'price': 0.027, 'call_ended_by': 'USER', 'analysis': {'user_name': None, 'user_email': None, 'appointment_date': None, 'appointment_time': None, 'user_has_question': False, 'user_phone_number': '+12058515599', 'user_wants_to_cancel': False, 'user_wants_to_reschedule': False, 'user_wants_to_leave_feedback': False, 'user_wants_to_make_complaint': False, 'user_wants_to_ask_about_order': False, 'user_wants_to_book_appointment': False, 'user_wants_to_ask_about_account': False, 'user_wants_to_ask_about_billing': False, 'user_wants_to_ask_about_product': False, 'user_wants_to_ask_about_service': False, 'user_wants_to_speak_with_supervisor': False}, 'analysis_schema': {}, 'campaign_id': None, 'transferred_to': None, 'pathway_tags': [], 'status': 'completed', 'recording_expiration': None, 'pathway_id': None, 'call_id': '399db321-c703-4aaf-b903-c5ce06d9dd9b'}\n"
     ]
    }
   ],
   "source": [
    "querystring = {\"inbound\":\"true\"}\n",
    "\n",
    "response = json.loads(requests.request(\"GET\", Blend_url, headers=headers, params=querystring).text)\n",
    "\n",
    "for index in response['calls']:\n",
    "    if index['from'] != None:\n",
    "        print(index)"
   ]
  }
 ],
 "metadata": {
  "kernelspec": {
   "display_name": "Python 3",
   "language": "python",
   "name": "python3"
  },
  "language_info": {
   "codemirror_mode": {
    "name": "ipython",
    "version": 3
   },
   "file_extension": ".py",
   "mimetype": "text/x-python",
   "name": "python",
   "nbconvert_exporter": "python",
   "pygments_lexer": "ipython3",
   "version": "3.12.6"
  }
 },
 "nbformat": 4,
 "nbformat_minor": 2
}
