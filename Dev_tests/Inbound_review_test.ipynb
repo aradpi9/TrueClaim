{
 "cells": [
  {
   "cell_type": "markdown",
   "metadata": {},
   "source": [
    "imports"
   ]
  },
  {
   "cell_type": "code",
   "execution_count": 2,
   "metadata": {},
   "outputs": [],
   "source": [
    "import requests\n",
    "import json"
   ]
  },
  {
   "cell_type": "markdown",
   "metadata": {},
   "source": [
    "setup"
   ]
  },
  {
   "cell_type": "code",
   "execution_count": 3,
   "metadata": {},
   "outputs": [],
   "source": [
    "# BLENDAPI setup\n",
    "BLEND_API_KEY = \"org_ba2e4ccfb75e56afc088d9804df57d2623542e8bbd3de2c02bfcb0024daa778c1850bba9de94a2d1ec6a69\"\n",
    "Blend_url = \"https://api.bland.ai/v1/calls\"\n",
    "Blend_SMS_url = \"https://api.bland.ai/v1/sms/messages\"\n",
    "headers = {'Authorization': BLEND_API_KEY}"
   ]
  },
  {
   "cell_type": "markdown",
   "metadata": {},
   "source": [
    "check Inblund SMS "
   ]
  },
  {
   "cell_type": "code",
   "execution_count": 5,
   "metadata": {},
   "outputs": [
    {
     "name": "stdout",
     "output_type": "stream",
     "text": [
      "massage at 2025-02-26T09:29:51.590Z from +13363603640 to +14702354347: test\n",
      "massage at 2025-02-26T09:30:44.341Z from +13363603640 to +14702354347: test\n",
      "massage at 2025-02-26T09:35:29.117Z from +13363603640 to +17132919826: test\n",
      "massage at 2025-02-26T09:37:58.573Z from +13363603640 to +16465386464: test\n",
      "massage at 2025-02-26T09:38:55.687Z from +13363603640 to +16465386464: test\n",
      "massage at 2025-02-26T09:39:29.715Z from +13363603640 to 6465386464: test\n",
      "massage at 2025-02-26T09:40:10.891Z from +13363603640 to 6465386464: test aksjdlahsdkj hasdj ;lasld lkasdlk;as\n",
      "massage at 2025-02-26T09:41:00.786Z from +13363603640 to +12058515599: test aksjdlahsdkj hasdj ;lasld lkasdlk;as\n",
      "massage at 2025-02-26T09:41:05.860Z from +13363603640 to +12058515599: test\n",
      "massage at 2025-02-26T11:55:32.676Z from +13363603640 to 4702354347: Hello test test\n",
      "massage at 2025-02-26T13:27:30.209Z from +13363603640 to +14702354347: Hello test test\n",
      "massage at 2025-03-03T18:41:05.261Z from +13363603640 to +15404240203: Hi, is this ZACHARY?\n",
      "massage at 2025-03-03T18:41:08.368Z from +13363603640 to +19108846298: Hi, is this ZACHARY?\n",
      "massage at 2025-03-03T18:42:38.459Z from +13363603640 to +15404240203: Hi, is this zachary?\n",
      "massage at 2025-03-03T18:42:39.873Z from +13363603640 to +19108846298: Hi, is this zachary?\n",
      "massage at 2025-03-03T18:42:41.911Z from +13363603640 to +13473665253: Hi, is this warren?\n",
      "massage at 2025-03-03T18:42:43.232Z from +13363603640 to +13472560224: Hi, is this warren?\n",
      "massage at 2025-03-03T18:42:46.091Z from +13363603640 to +13473665256: Hi, is this warren?\n",
      "massage at 2025-03-03T18:42:49.293Z from +13363603640 to +19192911153: Hi, is this wanyun?\n",
      "massage at 2025-03-03T18:42:51.772Z from +13363603640 to +18326285628: Hi, is this wanyun?\n",
      "massage at 2025-03-03T18:42:54.577Z from +13363603640 to +18153261216: Hi, is this wanyun?\n",
      "massage at 2025-03-03T18:42:55.967Z from +13363603640 to +17139786720: Hi, is this wanyun?\n",
      "massage at 2025-03-03T18:42:58.055Z from +13363603640 to +12524145950: Hi, is this venson?\n",
      "massage at 2025-03-03T18:43:00.020Z from +13363603640 to +12522273206: Hi, is this venson?\n",
      "massage at 2025-03-03T18:43:05.749Z from +13363603640 to +17045643060: Hi, is this troyanne?\n",
      "massage at 2025-03-03T18:43:08.410Z from +13363603640 to +13366017998: Hi, is this thomas?\n",
      "massage at 2025-03-03T18:43:09.803Z from +13363603640 to +17432412075: Hi, is this thomas?\n",
      "massage at 2025-03-03T18:43:11.211Z from +13363603640 to +13363768216: Hi, is this thomas?\n",
      "massage at 2025-03-03T18:43:14.354Z from +13363603640 to +15162690783: Hi, is this steven?\n",
      "massage at 2025-03-03T18:43:16.635Z from +13363603640 to +19104576720: Hi, is this steven?\n",
      "massage at 2025-03-03T18:43:18.639Z from +13363603640 to +16319574858: Hi, is this steven?\n",
      "massage at 2025-03-03T18:43:20.687Z from +13363603640 to +19104439399: Hi, is this shapiro?\n",
      "massage at 2025-03-03T18:43:23.700Z from +13363603640 to +19107890757: Hi, is this shapiro?\n",
      "massage at 2025-03-03T18:43:25.844Z from +13363603640 to +19108508935: Hi, is this rosa?\n",
      "massage at 2025-03-03T18:43:30.199Z from +13363603640 to +12522861890: Hi, is this roger?\n",
      "massage at 2025-03-03T18:43:31.539Z from +13363603640 to +12393027227: Hi, is this roger?\n",
      "massage at 2025-03-03T18:43:34.538Z from +13363603640 to +12525251274: Hi, is this roger?\n",
      "massage at 2025-03-03T18:43:37.989Z from +13363603640 to +17047737543: Hi, is this rayfield?\n",
      "massage at 2025-03-03T18:43:40.269Z from +13363603640 to +13364253108: Hi, is this rayfield?\n",
      "massage at 2025-03-03T18:43:42.905Z from +13363603640 to +13367943703: Hi, is this rayfield?\n",
      "massage at 2025-03-03T18:43:44.266Z from +13363603640 to +13366500770: Hi, is this rayfield?\n",
      "massage at 2025-03-03T18:43:59.884Z from +13363603640 to +19198194476: Hi, is this randolph?\n",
      "massage at 2025-03-03T18:44:01.356Z from +13363603640 to +15039573139: Hi, is this randolph?\n",
      "massage at 2025-03-03T18:44:02.797Z from +13363603640 to +19197829114: Hi, is this randolph?\n",
      "massage at 2025-03-03T18:44:05.832Z from +13363603640 to +13362264868: Hi, is this ralph?\n",
      "massage at 2025-03-03T18:44:09.597Z from +13363603640 to +19195226323: Hi, is this pamela?\n",
      "massage at 2025-03-03T18:44:11.017Z from +13363603640 to +19199316538: Hi, is this pamela?\n",
      "massage at 2025-03-03T18:44:13.125Z from +13363603640 to +19199295113: Hi, is this pamela?\n",
      "massage at 2025-03-03T18:44:15.279Z from +13363603640 to +18286708725: Hi, is this michael?\n",
      "massage at 2025-03-03T18:44:16.696Z from +13363603640 to +18286673966: Hi, is this michael?\n",
      "massage at 2025-03-03T18:44:21.205Z from +13363603640 to +18286330998: Hi, is this michael?\n",
      "massage at 2025-03-03T18:44:24.066Z from +13363603640 to +19103918099: Hi, is this mary?\n",
      "massage at 2025-03-03T18:44:25.526Z from +13363603640 to +17574991294: Hi, is this mary?\n",
      "massage at 2025-03-03T18:44:26.931Z from +13363603640 to +17573405676: Hi, is this mary?\n",
      "massage at 2025-03-03T18:44:29.259Z from +13363603640 to +17047567932: Hi, is this ma?\n",
      "massage at 2025-03-03T18:44:31.276Z from +13363603640 to +17045265576: Hi, is this larry?\n",
      "massage at 2025-03-03T18:44:32.849Z from +13363603640 to +19102548600: Hi, is this larry?\n",
      "massage at 2025-03-03T18:44:34.229Z from +13363603640 to +18037750063: Hi, is this larry?\n",
      "massage at 2025-03-03T18:44:36.269Z from +13363603640 to +17042985863: Hi, is this john?\n",
      "massage at 2025-03-03T18:44:38.733Z from +13363603640 to +17432059589: Hi, is this jeffrey?\n",
      "massage at 2025-03-03T18:44:40.094Z from +13363603640 to +13366844273: Hi, is this jeffrey?\n",
      "massage at 2025-03-03T18:44:41.595Z from +13363603640 to +13362124484: Hi, is this jeffrey?\n",
      "massage at 2025-03-03T18:44:43.982Z from +13363603640 to +13362291229: Hi, is this jeffrey?\n",
      "massage at 2025-03-03T18:44:45.982Z from +13363603640 to +19543178649: Hi, is this jason?\n",
      "massage at 2025-03-03T18:44:47.350Z from +13363603640 to +17049623805: Hi, is this jason?\n",
      "massage at 2025-03-03T18:44:49.425Z from +13363603640 to +17069940667: Hi, is this george?\n",
      "massage at 2025-03-03T18:44:51.876Z from +13363603640 to +17062078188: Hi, is this george?\n",
      "massage at 2025-03-03T18:44:53.345Z from +13363603640 to +18285574412: Hi, is this george?\n",
      "massage at 2025-03-03T18:44:54.665Z from +13363603640 to +17068965407: Hi, is this george?\n",
      "massage at 2025-03-03T18:44:56.693Z from +13363603640 to +12526654821: Hi, is this erdman?\n",
      "massage at 2025-03-03T18:44:58.887Z from +13363603640 to +19109160480: Hi, is this emma?\n",
      "massage at 2025-03-03T18:45:00.341Z from +13363603640 to +18189158495: Hi, is this emma?\n",
      "massage at 2025-03-03T18:45:01.754Z from +13363603640 to +19102813543: Hi, is this emma?\n",
      "massage at 2025-03-03T18:45:04.042Z from +13363603640 to +12529334883: Hi, is this elizabeth?\n",
      "massage at 2025-03-03T18:45:05.528Z from +13363603640 to +12525616331: Hi, is this elizabeth?\n",
      "massage at 2025-03-03T18:45:07.001Z from +13363603640 to +12522686543: Hi, is this elizabeth?\n",
      "massage at 2025-03-03T18:45:09.503Z from +13363603640 to +19106905182: Hi, is this dustin?\n",
      "massage at 2025-03-03T18:45:11.480Z from +13363603640 to +19109442936: Hi, is this dustin?\n",
      "massage at 2025-03-03T18:45:13.967Z from +13363603640 to +13363397878: Hi, is this david?\n",
      "massage at 2025-03-03T18:45:15.384Z from +13363603640 to +13366743726: Hi, is this david?\n",
      "massage at 2025-03-03T18:45:17.927Z from +13363603640 to +19846891410: Hi, is this clayton?\n",
      "massage at 2025-03-03T18:45:19.398Z from +13363603640 to +17042763353: Hi, is this clayton?\n",
      "massage at 2025-03-03T18:45:21.340Z from +13363603640 to +14785083143: Hi, is this charles?\n",
      "massage at 2025-03-03T18:45:22.757Z from +13363603640 to +14785503647: Hi, is this charles?\n",
      "massage at 2025-03-03T18:45:25.404Z from +13363603640 to +12523422965: Hi, is this carmella?\n",
      "massage at 2025-03-03T18:45:30.069Z from +13363603640 to +17049137053: Hi, is this bobby?\n",
      "massage at 2025-03-03T18:45:31.507Z from +13363603640 to +17042364584: Hi, is this bobby?\n",
      "massage at 2025-03-03T18:45:34.351Z from +13363603640 to +18283740288: Hi, is this bobby?\n",
      "massage at 2025-03-03T18:45:36.314Z from +13363603640 to +17044183290: Hi, is this bettye?\n",
      "massage at 2025-03-03T18:45:38.477Z from +13363603640 to +17049386951: Hi, is this bettye?\n",
      "massage at 2025-03-03T18:45:40.264Z from +13363603640 to +19196375221: Hi, is this arlene?\n",
      "massage at 2025-03-03T21:38:10.795Z from +13363603640 to +12523422965: Hi, is this carmella?\n"
     ]
    }
   ],
   "source": [
    "payload = {\n",
    "    \"to\": \"+13363603640\"\n",
    "}\n",
    "\n",
    "response = json.loads(requests.request(\"POST\", Blend_SMS_url + \"/get\", json=payload, headers=headers).text)\n",
    "for sms in response['messages']:\n",
    "    if sms['from'] != \"+133636036401\":\n",
    "        print(f\"massage at {sms['created_at']} from {sms['from']} to {sms['to']}: {sms['message']}\")\n",
    "    "
   ]
  },
  {
   "cell_type": "markdown",
   "metadata": {},
   "source": [
    "Check inbound calls\n"
   ]
  },
  {
   "cell_type": "code",
   "execution_count": 29,
   "metadata": {},
   "outputs": [
    {
     "name": "stdout",
     "output_type": "stream",
     "text": [
      "at: 2025-02-25T14:03:06-08:00 from: +14706292066, call recording: https://server.aws.dc5.bland.ai/v1/recordings/75be2099-c9d1-4fab-ac55-8aa2214c4992:165603f1-9e45-42b7-b367-19ad0a935192\n",
      "at: 2025-02-24T12:34:42-08:00 from: Anonymous, call recording: https://server.aws.dc5.bland.ai/v1/recordings/7062d47b-f623-413c-873c-d45ff97a4710:4d7be618-e8d3-4108-83c9-c0e75c8c48a8\n",
      "at: 2025-02-24T11:10:40-08:00 from: +15162690783, call recording: https://server.aws.dc5.bland.ai/v1/recordings/dde6edf4-2858-49e1-b16e-22d0fbc146c2:ba957ca6-a398-42f8-bf56-829eeb87a407\n",
      "at: 2025-02-24T09:33:49-08:00 from: +13369095678, call recording: https://server.aws.dc5.bland.ai/v1/recordings/d69f94a5-9f4b-4a86-a757-937e5d32cd4d:a46f2ad9-f7e9-473a-9f32-4aaf83dea47a\n",
      "at: 2025-02-20T11:21:16-08:00 from: +12523422965, call recording: None\n",
      "at: 2025-02-19T08:32:20-08:00 from: +19103918099, call recording: None\n",
      "at: 2025-02-18T10:47:47-08:00 from: +12058515599, call recording: None\n",
      "at: 2025-02-18T01:17:57-08:00 from: +12058515599, call recording: None\n",
      "at: 2025-02-17T03:31:56-08:00 from: +12058515599, call recording: None\n"
     ]
    }
   ],
   "source": [
    "querystring = {\"inbound\":\"true\"}\n",
    "\n",
    "response = json.loads(requests.request(\"GET\", Blend_url, headers=headers, params=querystring).text)\n",
    "\n",
    "for index in response['calls']:\n",
    "    if index['from'] != None:\n",
    "        \n",
    "        print(f\"at: {index['variables']['timestamp']} from: {index['from']}, call recording: {index['recording_url']}\")\n",
    "        "
   ]
  }
 ],
 "metadata": {
  "kernelspec": {
   "display_name": "Python 3",
   "language": "python",
   "name": "python3"
  },
  "language_info": {
   "codemirror_mode": {
    "name": "ipython",
    "version": 3
   },
   "file_extension": ".py",
   "mimetype": "text/x-python",
   "name": "python",
   "nbconvert_exporter": "python",
   "pygments_lexer": "ipython3",
   "version": "3.12.6"
  }
 },
 "nbformat": 4,
 "nbformat_minor": 2
}
